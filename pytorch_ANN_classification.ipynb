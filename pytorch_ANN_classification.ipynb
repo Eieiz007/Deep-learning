{
  "nbformat": 4,
  "nbformat_minor": 0,
  "metadata": {
    "colab": {
      "provenance": [],
      "authorship_tag": "ABX9TyPd8aGiQTTnVyLmDCPBhhYs",
      "include_colab_link": true
    },
    "kernelspec": {
      "name": "python3",
      "display_name": "Python 3"
    },
    "language_info": {
      "name": "python"
    }
  },
  "cells": [
    {
      "cell_type": "markdown",
      "metadata": {
        "id": "view-in-github",
        "colab_type": "text"
      },
      "source": [
        "<a href=\"https://colab.research.google.com/github/Eieiz007/Deep-learning/blob/main/pytorch_ANN_classification.ipynb\" target=\"_parent\"><img src=\"https://colab.research.google.com/assets/colab-badge.svg\" alt=\"Open In Colab\"/></a>"
      ]
    },
    {
      "cell_type": "markdown",
      "source": [
        "Import data"
      ],
      "metadata": {
        "id": "DhZt8ZZYf54W"
      }
    },
    {
      "cell_type": "code",
      "execution_count": 2,
      "metadata": {
        "id": "Dlx7E_mFFikC"
      },
      "outputs": [],
      "source": [
        "import torch\n",
        "import torch.nn as nn\n",
        "import torch.optim as optim\n",
        "import numpy as np\n",
        "import matplotlib.pyplot as plt\n",
        "from sklearn.datasets import load_iris\n",
        "from sklearn.model_selection import train_test_split\n",
        "from sklearn.preprocessing import StandardScaler\n",
        "\n",
        "# โหลด Iris dataset\n",
        "iris = load_iris()\n",
        "X, y = iris.data, iris.target"
      ]
    },
    {
      "cell_type": "code",
      "source": [
        "X[:6]"
      ],
      "metadata": {
        "colab": {
          "base_uri": "https://localhost:8080/"
        },
        "id": "ImWkBvX6f4kx",
        "outputId": "0e6d7d12-bcfd-47be-c50f-93838f299dcd"
      },
      "execution_count": 6,
      "outputs": [
        {
          "output_type": "execute_result",
          "data": {
            "text/plain": [
              "array([[5.1, 3.5, 1.4, 0.2],\n",
              "       [4.9, 3. , 1.4, 0.2],\n",
              "       [4.7, 3.2, 1.3, 0.2],\n",
              "       [4.6, 3.1, 1.5, 0.2],\n",
              "       [5. , 3.6, 1.4, 0.2],\n",
              "       [5.4, 3.9, 1.7, 0.4]])"
            ]
          },
          "metadata": {},
          "execution_count": 6
        }
      ]
    },
    {
      "cell_type": "markdown",
      "source": [
        "Splitting data"
      ],
      "metadata": {
        "id": "inM4MWC2f8Ge"
      }
    },
    {
      "cell_type": "code",
      "source": [
        "# แบ่งเป็น Train / Validation / Test 70:15:15\n",
        "X_train, X_temp, y_train, y_temp = train_test_split(X, y, test_size=0.3, random_state=42)\n",
        "X_val, X_test, y_val, y_test = train_test_split(X_temp, y_temp, test_size=0.5, random_state=42)"
      ],
      "metadata": {
        "id": "yBSEohXUf2RV"
      },
      "execution_count": 8,
      "outputs": []
    },
    {
      "cell_type": "code",
      "source": [
        "# Standardization (ทำให้ค่าอยู่ในช่วง -3 ถึง 3)\n",
        "scaler = StandardScaler()\n",
        "X_train = scaler.fit_transform(X_train)\n",
        "X_val = scaler.transform(X_val)\n",
        "X_test = scaler.transform(X_test)"
      ],
      "metadata": {
        "id": "eqTeYe8Wf3O2"
      },
      "execution_count": 10,
      "outputs": []
    },
    {
      "cell_type": "code",
      "source": [
        "# แปลงเป็น Tensor\n",
        "X_train = torch.tensor(X_train, dtype=torch.float32)\n",
        "X_val = torch.tensor(X_val, dtype=torch.float32)\n",
        "X_test = torch.tensor(X_test, dtype=torch.float32)\n",
        "y_train = torch.tensor(y_train, dtype=torch.long)\n",
        "y_val = torch.tensor(y_val, dtype=torch.long)\n",
        "y_test = torch.tensor(y_test, dtype=torch.long)"
      ],
      "metadata": {
        "colab": {
          "base_uri": "https://localhost:8080/"
        },
        "id": "kONOw3sLFrLG",
        "outputId": "d59bf423-fb2c-4eb5-da94-827f274f8c43"
      },
      "execution_count": 13,
      "outputs": [
        {
          "output_type": "stream",
          "name": "stderr",
          "text": [
            "<ipython-input-13-4dc2aa61ec18>:2: UserWarning: To copy construct from a tensor, it is recommended to use sourceTensor.clone().detach() or sourceTensor.clone().detach().requires_grad_(True), rather than torch.tensor(sourceTensor).\n",
            "  X_train = torch.tensor(X_train, dtype=torch.float32)\n",
            "<ipython-input-13-4dc2aa61ec18>:3: UserWarning: To copy construct from a tensor, it is recommended to use sourceTensor.clone().detach() or sourceTensor.clone().detach().requires_grad_(True), rather than torch.tensor(sourceTensor).\n",
            "  X_val = torch.tensor(X_val, dtype=torch.float32)\n",
            "<ipython-input-13-4dc2aa61ec18>:4: UserWarning: To copy construct from a tensor, it is recommended to use sourceTensor.clone().detach() or sourceTensor.clone().detach().requires_grad_(True), rather than torch.tensor(sourceTensor).\n",
            "  X_test = torch.tensor(X_test, dtype=torch.float32)\n",
            "<ipython-input-13-4dc2aa61ec18>:5: UserWarning: To copy construct from a tensor, it is recommended to use sourceTensor.clone().detach() or sourceTensor.clone().detach().requires_grad_(True), rather than torch.tensor(sourceTensor).\n",
            "  y_train = torch.tensor(y_train, dtype=torch.long)\n",
            "<ipython-input-13-4dc2aa61ec18>:6: UserWarning: To copy construct from a tensor, it is recommended to use sourceTensor.clone().detach() or sourceTensor.clone().detach().requires_grad_(True), rather than torch.tensor(sourceTensor).\n",
            "  y_val = torch.tensor(y_val, dtype=torch.long)\n",
            "<ipython-input-13-4dc2aa61ec18>:7: UserWarning: To copy construct from a tensor, it is recommended to use sourceTensor.clone().detach() or sourceTensor.clone().detach().requires_grad_(True), rather than torch.tensor(sourceTensor).\n",
            "  y_test = torch.tensor(y_test, dtype=torch.long)\n"
          ]
        }
      ]
    },
    {
      "cell_type": "code",
      "source": [
        "class CustomANN(nn.Module):\n",
        "    def __init__(self, input_size, hidden1_size, hidden2_size, hidden3_size, output_size):\n",
        "        super(CustomANN, self).__init__()\n",
        "\n",
        "        # กำหนด Weight และ Bias เอง\n",
        "        self.W1 = nn.Parameter(torch.randn(input_size, hidden1_size) * 0.01) #4 > 10\n",
        "        self.b1 = nn.Parameter(torch.zeros(hidden1_size))\n",
        "\n",
        "        self.W2 = nn.Parameter(torch.randn(hidden1_size, hidden2_size) * 0.01) #10 > 5\n",
        "        self.b2 = nn.Parameter(torch.zeros(hidden2_size))\n",
        "\n",
        "        self.W3 = nn.Parameter(torch.randn(hidden2_size, hidden3_size) * 0.01) #5 > 3\n",
        "        self.b3 = nn.Parameter(torch.zeros(hidden3_size))\n",
        "\n",
        "        self.W4 = nn.Parameter(torch.randn(hidden3_size, output_size) * 0.01) # 3 > 3\n",
        "        self.b4 = nn.Parameter(torch.zeros(output_size))\n",
        "\n",
        "    def forward(self, x):\n",
        "        x = torch.matmul(x, self.W1) + self.b1 #build W^Tx + b of input layer within hidden layer1\n",
        "        x = torch.relu(x)\n",
        "\n",
        "        x = torch.matmul(x, self.W2) + self.b2\n",
        "        x = torch.relu(x)\n",
        "\n",
        "        x = torch.matmul(x, self.W3) + self.b3\n",
        "        x = torch.relu(x)\n",
        "\n",
        "        x = torch.matmul(x, self.W4) + self.b4\n",
        "        return x  # ไม่ใช้ Softmax เพราะ CrossEntropyLoss() จัดการให้แล้ว\n"
      ],
      "metadata": {
        "id": "Ld37_eokFrI0"
      },
      "execution_count": 20,
      "outputs": []
    },
    {
      "cell_type": "code",
      "source": [
        "class ANN_Linear(nn.Module):\n",
        "    def __init__(self, input_size, hidden1_size, hidden2_size, hidden3_size, output_size):\n",
        "        super(ANN_Linear, self).__init__()\n",
        "        self.input = nn.Linear(input_size, hidden1_size)\n",
        "        self.h1 = nn.Linear(hidden1_size, hidden2_size)\n",
        "        self.h2 = nn.Linear(hidden2_size, hidden3_size)\n",
        "        self.output = nn.Linear(hidden3_size, output_size)\n",
        "\n",
        "    def forward(self, x):\n",
        "        x = torch.relu(self.input(x))\n",
        "        x = torch.relu(self.h1(x))\n",
        "        x = torch.relu(self.h2(x))\n",
        "        x = self.output(x)  # Output Layer\n",
        "        return x"
      ],
      "metadata": {
        "id": "lJ-C20U83vFt"
      },
      "execution_count": 27,
      "outputs": []
    },
    {
      "cell_type": "code",
      "source": [
        "# กำหนด Hyperparameters\n",
        "input_size = 4\n",
        "hidden1_size = 10\n",
        "hidden2_size = 5\n",
        "hidden3_size = 3\n",
        "output_size = 3\n",
        "learning_rate = 0.001\n",
        "epochs = 100\n",
        "\n",
        "# สร้างโมเดล\n",
        "# model = CustomANN(input_size, hidden1_size, hidden2_size, hidden3_size, output_size)\n",
        "model = ANN_Linear(input_size, hidden1_size, hidden2_size, hidden3_size, output_size)\n",
        "\n",
        "# Loss Function → CrossEntropyLoss ใช้กับ Classification\n",
        "criterion = nn.CrossEntropyLoss() #softmax\n",
        "\n",
        "# Optimizer → Adam (นิยมใช้)\n",
        "optimizer = optim.Adam(model.parameters(), lr=learning_rate)\n"
      ],
      "metadata": {
        "id": "Kjyen4k0FrGk"
      },
      "execution_count": 28,
      "outputs": []
    },
    {
      "cell_type": "code",
      "source": [
        "train_losses, val_losses = [], []  # เก็บค่าของ Loss\n",
        "\n",
        "for epoch in range(epochs):\n",
        "    model.train()  # เปิดโหมด Training\n",
        "    optimizer.zero_grad()  # ล้างค่า Gradient เก่า\n",
        "\n",
        "    #forward pass\n",
        "    outputs = model(X_train)  # Forward Pass\n",
        "    loss = criterion(outputs, y_train)  # คำนวณ Loss\n",
        "\n",
        "    #backward pass\n",
        "    loss.backward()  # คำนวณ Gradient autograd\n",
        "    optimizer.step()  # อัปเดตค่า W และ b\n",
        "\n",
        "    # คำนวณ Loss บน Validation Set\n",
        "    model.eval()\n",
        "    with torch.no_grad():\n",
        "        val_outputs = model(X_val)\n",
        "        val_loss = criterion(val_outputs, y_val)\n",
        "\n",
        "    train_losses.append(loss.item())\n",
        "    val_losses.append(val_loss.item())\n",
        "\n",
        "    if epoch % 10 == 0:\n",
        "        print(f\"Epoch [{epoch}/{epochs}], Train Loss: {loss.item():.4f}, Val Loss: {val_loss.item():.4f}\")\n"
      ],
      "metadata": {
        "colab": {
          "base_uri": "https://localhost:8080/"
        },
        "id": "W4OSUUfvFrEl",
        "outputId": "94bd1d0a-ce5c-451e-f8ee-8f35103820ff"
      },
      "execution_count": 29,
      "outputs": [
        {
          "output_type": "stream",
          "name": "stdout",
          "text": [
            "Epoch [0/100], Train Loss: 1.1066, Val Loss: 1.3464\n",
            "Epoch [10/100], Train Loss: 1.0944, Val Loss: 1.3228\n",
            "Epoch [20/100], Train Loss: 1.0824, Val Loss: 1.3005\n",
            "Epoch [30/100], Train Loss: 1.0700, Val Loss: 1.2788\n",
            "Epoch [40/100], Train Loss: 1.0565, Val Loss: 1.2563\n",
            "Epoch [50/100], Train Loss: 1.0410, Val Loss: 1.2323\n",
            "Epoch [60/100], Train Loss: 1.0231, Val Loss: 1.2058\n",
            "Epoch [70/100], Train Loss: 1.0037, Val Loss: 1.1777\n",
            "Epoch [80/100], Train Loss: 0.9850, Val Loss: 1.1510\n",
            "Epoch [90/100], Train Loss: 0.9672, Val Loss: 1.1265\n"
          ]
        }
      ]
    },
    {
      "cell_type": "code",
      "source": [],
      "metadata": {
        "id": "Orbqc_sDFrCk"
      },
      "execution_count": null,
      "outputs": []
    }
  ]
}