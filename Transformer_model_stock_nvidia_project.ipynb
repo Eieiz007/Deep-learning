{
  "nbformat": 4,
  "nbformat_minor": 0,
  "metadata": {
    "colab": {
      "provenance": [],
      "toc_visible": true,
      "authorship_tag": "ABX9TyOEAIChLw+P+rcBfId2XiJx",
      "include_colab_link": true
    },
    "kernelspec": {
      "name": "python3",
      "display_name": "Python 3"
    },
    "language_info": {
      "name": "python"
    }
  },
  "cells": [
    {
      "cell_type": "markdown",
      "metadata": {
        "id": "view-in-github",
        "colab_type": "text"
      },
      "source": [
        "<a href=\"https://colab.research.google.com/github/Eieiz007/Deep-learning/blob/main/Transformer_model_stock_nvidia_project.ipynb\" target=\"_parent\"><img src=\"https://colab.research.google.com/assets/colab-badge.svg\" alt=\"Open In Colab\"/></a>"
      ]
    },
    {
      "cell_type": "markdown",
      "source": [
        "This is my mini project.  \n",
        "Nvidia Stock time series forcasting by Transformer model   "
      ],
      "metadata": {
        "id": "GbFTf4hcCXos"
      }
    },
    {
      "cell_type": "markdown",
      "source": [
        "# PIP"
      ],
      "metadata": {
        "id": "r6RWNIiYxL95"
      }
    },
    {
      "cell_type": "code",
      "source": [
        "# !pip install torchinfo"
      ],
      "metadata": {
        "colab": {
          "base_uri": "https://localhost:8080/"
        },
        "id": "joMHP6S_J74x",
        "outputId": "cc25b40c-ea04-4729-a4fe-83b30edd8d24"
      },
      "execution_count": null,
      "outputs": [
        {
          "output_type": "stream",
          "name": "stdout",
          "text": [
            "Requirement already satisfied: torchinfo in /usr/local/lib/python3.11/dist-packages (1.8.0)\n",
            "Collecting optuna\n",
            "  Downloading optuna-4.2.1-py3-none-any.whl.metadata (17 kB)\n",
            "Collecting alembic>=1.5.0 (from optuna)\n",
            "  Downloading alembic-1.14.1-py3-none-any.whl.metadata (7.4 kB)\n",
            "Collecting colorlog (from optuna)\n",
            "  Downloading colorlog-6.9.0-py3-none-any.whl.metadata (10 kB)\n",
            "Requirement already satisfied: numpy in /usr/local/lib/python3.11/dist-packages (from optuna) (1.26.4)\n",
            "Requirement already satisfied: packaging>=20.0 in /usr/local/lib/python3.11/dist-packages (from optuna) (24.2)\n",
            "Requirement already satisfied: sqlalchemy>=1.4.2 in /usr/local/lib/python3.11/dist-packages (from optuna) (2.0.38)\n",
            "Requirement already satisfied: tqdm in /usr/local/lib/python3.11/dist-packages (from optuna) (4.67.1)\n",
            "Requirement already satisfied: PyYAML in /usr/local/lib/python3.11/dist-packages (from optuna) (6.0.2)\n",
            "Collecting Mako (from alembic>=1.5.0->optuna)\n",
            "  Downloading Mako-1.3.9-py3-none-any.whl.metadata (2.9 kB)\n",
            "Requirement already satisfied: typing-extensions>=4 in /usr/local/lib/python3.11/dist-packages (from alembic>=1.5.0->optuna) (4.12.2)\n",
            "Requirement already satisfied: greenlet!=0.4.17 in /usr/local/lib/python3.11/dist-packages (from sqlalchemy>=1.4.2->optuna) (3.1.1)\n",
            "Requirement already satisfied: MarkupSafe>=0.9.2 in /usr/local/lib/python3.11/dist-packages (from Mako->alembic>=1.5.0->optuna) (3.0.2)\n",
            "Downloading optuna-4.2.1-py3-none-any.whl (383 kB)\n",
            "\u001b[2K   \u001b[90m━━━━━━━━━━━━━━━━━━━━━━━━━━━━━━━━━━━━━━━━\u001b[0m \u001b[32m383.6/383.6 kB\u001b[0m \u001b[31m8.0 MB/s\u001b[0m eta \u001b[36m0:00:00\u001b[0m\n",
            "\u001b[?25hDownloading alembic-1.14.1-py3-none-any.whl (233 kB)\n",
            "\u001b[2K   \u001b[90m━━━━━━━━━━━━━━━━━━━━━━━━━━━━━━━━━━━━━━━━\u001b[0m \u001b[32m233.6/233.6 kB\u001b[0m \u001b[31m18.0 MB/s\u001b[0m eta \u001b[36m0:00:00\u001b[0m\n",
            "\u001b[?25hDownloading colorlog-6.9.0-py3-none-any.whl (11 kB)\n",
            "Downloading Mako-1.3.9-py3-none-any.whl (78 kB)\n",
            "\u001b[2K   \u001b[90m━━━━━━━━━━━━━━━━━━━━━━━━━━━━━━━━━━━━━━━━\u001b[0m \u001b[32m78.5/78.5 kB\u001b[0m \u001b[31m6.1 MB/s\u001b[0m eta \u001b[36m0:00:00\u001b[0m\n",
            "\u001b[?25hInstalling collected packages: Mako, colorlog, alembic, optuna\n",
            "Successfully installed Mako-1.3.9 alembic-1.14.1 colorlog-6.9.0 optuna-4.2.1\n"
          ]
        }
      ]
    },
    {
      "cell_type": "code",
      "source": [
        "# pip install yfinance"
      ],
      "metadata": {
        "id": "bfcTtcuLC3NL",
        "colab": {
          "base_uri": "https://localhost:8080/"
        },
        "outputId": "5da1a9bc-be2a-4fa7-bd9f-2d5936af9fcd"
      },
      "execution_count": null,
      "outputs": [
        {
          "output_type": "stream",
          "name": "stdout",
          "text": [
            "Requirement already satisfied: yfinance in /usr/local/lib/python3.11/dist-packages (0.2.54)\n",
            "Requirement already satisfied: pandas>=1.3.0 in /usr/local/lib/python3.11/dist-packages (from yfinance) (2.2.2)\n",
            "Requirement already satisfied: numpy>=1.16.5 in /usr/local/lib/python3.11/dist-packages (from yfinance) (1.26.4)\n",
            "Requirement already satisfied: requests>=2.31 in /usr/local/lib/python3.11/dist-packages (from yfinance) (2.32.3)\n",
            "Requirement already satisfied: multitasking>=0.0.7 in /usr/local/lib/python3.11/dist-packages (from yfinance) (0.0.11)\n",
            "Requirement already satisfied: platformdirs>=2.0.0 in /usr/local/lib/python3.11/dist-packages (from yfinance) (4.3.6)\n",
            "Requirement already satisfied: pytz>=2022.5 in /usr/local/lib/python3.11/dist-packages (from yfinance) (2025.1)\n",
            "Requirement already satisfied: frozendict>=2.3.4 in /usr/local/lib/python3.11/dist-packages (from yfinance) (2.4.6)\n",
            "Requirement already satisfied: peewee>=3.16.2 in /usr/local/lib/python3.11/dist-packages (from yfinance) (3.17.9)\n",
            "Requirement already satisfied: beautifulsoup4>=4.11.1 in /usr/local/lib/python3.11/dist-packages (from yfinance) (4.13.3)\n",
            "Requirement already satisfied: soupsieve>1.2 in /usr/local/lib/python3.11/dist-packages (from beautifulsoup4>=4.11.1->yfinance) (2.6)\n",
            "Requirement already satisfied: typing-extensions>=4.0.0 in /usr/local/lib/python3.11/dist-packages (from beautifulsoup4>=4.11.1->yfinance) (4.12.2)\n",
            "Requirement already satisfied: python-dateutil>=2.8.2 in /usr/local/lib/python3.11/dist-packages (from pandas>=1.3.0->yfinance) (2.8.2)\n",
            "Requirement already satisfied: tzdata>=2022.7 in /usr/local/lib/python3.11/dist-packages (from pandas>=1.3.0->yfinance) (2025.1)\n",
            "Requirement already satisfied: charset-normalizer<4,>=2 in /usr/local/lib/python3.11/dist-packages (from requests>=2.31->yfinance) (3.4.1)\n",
            "Requirement already satisfied: idna<4,>=2.5 in /usr/local/lib/python3.11/dist-packages (from requests>=2.31->yfinance) (3.10)\n",
            "Requirement already satisfied: urllib3<3,>=1.21.1 in /usr/local/lib/python3.11/dist-packages (from requests>=2.31->yfinance) (2.3.0)\n",
            "Requirement already satisfied: certifi>=2017.4.17 in /usr/local/lib/python3.11/dist-packages (from requests>=2.31->yfinance) (2025.1.31)\n",
            "Requirement already satisfied: six>=1.5 in /usr/local/lib/python3.11/dist-packages (from python-dateutil>=2.8.2->pandas>=1.3.0->yfinance) (1.17.0)\n"
          ]
        }
      ]
    },
    {
      "cell_type": "markdown",
      "source": [
        "# Import"
      ],
      "metadata": {
        "id": "x-ln3PM8CT4U"
      }
    },
    {
      "cell_type": "code",
      "execution_count": null,
      "metadata": {
        "id": "i0uTb1VjCGtP"
      },
      "outputs": [],
      "source": [
        "import yfinance as yf\n",
        "import pandas as pd\n",
        "import matplotlib.pyplot as plt\n",
        "import statsmodels.api as sm\n",
        "import numpy as np\n",
        "from statsmodels.tsa.stattools import adfuller\n",
        "from sklearn.model_selection import train_test_split\n",
        "\n",
        "import torch\n",
        "import torch.nn as nn\n",
        "from torch.utils.data import DataLoader, TensorDataset\n",
        "from sklearn.preprocessing import StandardScaler\n",
        "from torch.optim.lr_scheduler import ReduceLROnPlateau\n",
        "from torchinfo import summary\n",
        "import torch.optim as optim\n"
      ]
    },
    {
      "cell_type": "markdown",
      "source": [
        "# API datasets"
      ],
      "metadata": {
        "id": "qUKGWkNcDBRr"
      }
    },
    {
      "cell_type": "code",
      "source": [
        "stocks = [\"NVDA\"]\n",
        "df = yf.download(stocks, period=\"5y\")[['Open', 'High', 'Low', 'Close', 'Volume']]"
      ],
      "metadata": {
        "colab": {
          "base_uri": "https://localhost:8080/"
        },
        "id": "q16ln8xKC_Yt",
        "outputId": "a88a98cc-1ef3-4c5e-affd-1465062544ff"
      },
      "execution_count": null,
      "outputs": [
        {
          "output_type": "stream",
          "name": "stderr",
          "text": [
            "\r[*********************100%***********************]  1 of 1 completed\n"
          ]
        }
      ]
    },
    {
      "cell_type": "code",
      "source": [
        "df.columns = [f\"Price_{col}\" for col in df.columns]\n",
        "df.columns = ['Open', 'High', 'Low', 'Close', 'Volume']\n",
        "df[:].columns"
      ],
      "metadata": {
        "colab": {
          "base_uri": "https://localhost:8080/"
        },
        "id": "w2dFJ5_cE470",
        "outputId": "79b392cb-e5eb-4965-d0a7-f85ec9d8964d"
      },
      "execution_count": null,
      "outputs": [
        {
          "output_type": "execute_result",
          "data": {
            "text/plain": [
              "Index(['Open', 'High', 'Low', 'Close', 'Volume'], dtype='object')"
            ]
          },
          "metadata": {},
          "execution_count": 39
        }
      ]
    },
    {
      "cell_type": "code",
      "source": [
        "df"
      ],
      "metadata": {
        "colab": {
          "base_uri": "https://localhost:8080/",
          "height": 455
        },
        "id": "F1FzPTDoDzhk",
        "outputId": "0c9180a0-9574-4036-e0f8-7b44ca0be279"
      },
      "execution_count": null,
      "outputs": [
        {
          "output_type": "execute_result",
          "data": {
            "text/plain": [
              "                  Open        High         Low       Close     Volume\n",
              "Date                                                                 \n",
              "2020-03-02    6.897723    6.914911    6.501646    6.886015  890744000\n",
              "2020-03-03    6.941815    7.001600    6.538016    6.623459  652792000\n",
              "2020-03-04    6.730822    7.096757    6.656090    7.087291  597408000\n",
              "2020-03-05    6.887759    7.054660    6.763206    6.807796  540328000\n",
              "2020-03-06    6.628192    6.685736    6.426915    6.627196  515412000\n",
              "...                ...         ...         ...         ...        ...\n",
              "2025-02-24  136.559998  138.589996  130.080002  130.279999  251381100\n",
              "2025-02-25  129.979996  130.199997  124.440002  126.629997  271428700\n",
              "2025-02-26  129.990005  133.729996  128.490005  131.279999  322553800\n",
              "2025-02-27  135.000000  135.009995  120.010002  120.150002  443175800\n",
              "2025-02-28  118.019997  125.089996  116.400002  124.919998  388160100\n",
              "\n",
              "[1257 rows x 5 columns]"
            ],
            "text/html": [
              "\n",
              "  <div id=\"df-060ba5b9-eb3d-4e04-a75b-ce5cb13b7379\" class=\"colab-df-container\">\n",
              "    <div>\n",
              "<style scoped>\n",
              "    .dataframe tbody tr th:only-of-type {\n",
              "        vertical-align: middle;\n",
              "    }\n",
              "\n",
              "    .dataframe tbody tr th {\n",
              "        vertical-align: top;\n",
              "    }\n",
              "\n",
              "    .dataframe thead th {\n",
              "        text-align: right;\n",
              "    }\n",
              "</style>\n",
              "<table border=\"1\" class=\"dataframe\">\n",
              "  <thead>\n",
              "    <tr style=\"text-align: right;\">\n",
              "      <th></th>\n",
              "      <th>Open</th>\n",
              "      <th>High</th>\n",
              "      <th>Low</th>\n",
              "      <th>Close</th>\n",
              "      <th>Volume</th>\n",
              "    </tr>\n",
              "    <tr>\n",
              "      <th>Date</th>\n",
              "      <th></th>\n",
              "      <th></th>\n",
              "      <th></th>\n",
              "      <th></th>\n",
              "      <th></th>\n",
              "    </tr>\n",
              "  </thead>\n",
              "  <tbody>\n",
              "    <tr>\n",
              "      <th>2020-03-02</th>\n",
              "      <td>6.897723</td>\n",
              "      <td>6.914911</td>\n",
              "      <td>6.501646</td>\n",
              "      <td>6.886015</td>\n",
              "      <td>890744000</td>\n",
              "    </tr>\n",
              "    <tr>\n",
              "      <th>2020-03-03</th>\n",
              "      <td>6.941815</td>\n",
              "      <td>7.001600</td>\n",
              "      <td>6.538016</td>\n",
              "      <td>6.623459</td>\n",
              "      <td>652792000</td>\n",
              "    </tr>\n",
              "    <tr>\n",
              "      <th>2020-03-04</th>\n",
              "      <td>6.730822</td>\n",
              "      <td>7.096757</td>\n",
              "      <td>6.656090</td>\n",
              "      <td>7.087291</td>\n",
              "      <td>597408000</td>\n",
              "    </tr>\n",
              "    <tr>\n",
              "      <th>2020-03-05</th>\n",
              "      <td>6.887759</td>\n",
              "      <td>7.054660</td>\n",
              "      <td>6.763206</td>\n",
              "      <td>6.807796</td>\n",
              "      <td>540328000</td>\n",
              "    </tr>\n",
              "    <tr>\n",
              "      <th>2020-03-06</th>\n",
              "      <td>6.628192</td>\n",
              "      <td>6.685736</td>\n",
              "      <td>6.426915</td>\n",
              "      <td>6.627196</td>\n",
              "      <td>515412000</td>\n",
              "    </tr>\n",
              "    <tr>\n",
              "      <th>...</th>\n",
              "      <td>...</td>\n",
              "      <td>...</td>\n",
              "      <td>...</td>\n",
              "      <td>...</td>\n",
              "      <td>...</td>\n",
              "    </tr>\n",
              "    <tr>\n",
              "      <th>2025-02-24</th>\n",
              "      <td>136.559998</td>\n",
              "      <td>138.589996</td>\n",
              "      <td>130.080002</td>\n",
              "      <td>130.279999</td>\n",
              "      <td>251381100</td>\n",
              "    </tr>\n",
              "    <tr>\n",
              "      <th>2025-02-25</th>\n",
              "      <td>129.979996</td>\n",
              "      <td>130.199997</td>\n",
              "      <td>124.440002</td>\n",
              "      <td>126.629997</td>\n",
              "      <td>271428700</td>\n",
              "    </tr>\n",
              "    <tr>\n",
              "      <th>2025-02-26</th>\n",
              "      <td>129.990005</td>\n",
              "      <td>133.729996</td>\n",
              "      <td>128.490005</td>\n",
              "      <td>131.279999</td>\n",
              "      <td>322553800</td>\n",
              "    </tr>\n",
              "    <tr>\n",
              "      <th>2025-02-27</th>\n",
              "      <td>135.000000</td>\n",
              "      <td>135.009995</td>\n",
              "      <td>120.010002</td>\n",
              "      <td>120.150002</td>\n",
              "      <td>443175800</td>\n",
              "    </tr>\n",
              "    <tr>\n",
              "      <th>2025-02-28</th>\n",
              "      <td>118.019997</td>\n",
              "      <td>125.089996</td>\n",
              "      <td>116.400002</td>\n",
              "      <td>124.919998</td>\n",
              "      <td>388160100</td>\n",
              "    </tr>\n",
              "  </tbody>\n",
              "</table>\n",
              "<p>1257 rows × 5 columns</p>\n",
              "</div>\n",
              "    <div class=\"colab-df-buttons\">\n",
              "\n",
              "  <div class=\"colab-df-container\">\n",
              "    <button class=\"colab-df-convert\" onclick=\"convertToInteractive('df-060ba5b9-eb3d-4e04-a75b-ce5cb13b7379')\"\n",
              "            title=\"Convert this dataframe to an interactive table.\"\n",
              "            style=\"display:none;\">\n",
              "\n",
              "  <svg xmlns=\"http://www.w3.org/2000/svg\" height=\"24px\" viewBox=\"0 -960 960 960\">\n",
              "    <path d=\"M120-120v-720h720v720H120Zm60-500h600v-160H180v160Zm220 220h160v-160H400v160Zm0 220h160v-160H400v160ZM180-400h160v-160H180v160Zm440 0h160v-160H620v160ZM180-180h160v-160H180v160Zm440 0h160v-160H620v160Z\"/>\n",
              "  </svg>\n",
              "    </button>\n",
              "\n",
              "  <style>\n",
              "    .colab-df-container {\n",
              "      display:flex;\n",
              "      gap: 12px;\n",
              "    }\n",
              "\n",
              "    .colab-df-convert {\n",
              "      background-color: #E8F0FE;\n",
              "      border: none;\n",
              "      border-radius: 50%;\n",
              "      cursor: pointer;\n",
              "      display: none;\n",
              "      fill: #1967D2;\n",
              "      height: 32px;\n",
              "      padding: 0 0 0 0;\n",
              "      width: 32px;\n",
              "    }\n",
              "\n",
              "    .colab-df-convert:hover {\n",
              "      background-color: #E2EBFA;\n",
              "      box-shadow: 0px 1px 2px rgba(60, 64, 67, 0.3), 0px 1px 3px 1px rgba(60, 64, 67, 0.15);\n",
              "      fill: #174EA6;\n",
              "    }\n",
              "\n",
              "    .colab-df-buttons div {\n",
              "      margin-bottom: 4px;\n",
              "    }\n",
              "\n",
              "    [theme=dark] .colab-df-convert {\n",
              "      background-color: #3B4455;\n",
              "      fill: #D2E3FC;\n",
              "    }\n",
              "\n",
              "    [theme=dark] .colab-df-convert:hover {\n",
              "      background-color: #434B5C;\n",
              "      box-shadow: 0px 1px 3px 1px rgba(0, 0, 0, 0.15);\n",
              "      filter: drop-shadow(0px 1px 2px rgba(0, 0, 0, 0.3));\n",
              "      fill: #FFFFFF;\n",
              "    }\n",
              "  </style>\n",
              "\n",
              "    <script>\n",
              "      const buttonEl =\n",
              "        document.querySelector('#df-060ba5b9-eb3d-4e04-a75b-ce5cb13b7379 button.colab-df-convert');\n",
              "      buttonEl.style.display =\n",
              "        google.colab.kernel.accessAllowed ? 'block' : 'none';\n",
              "\n",
              "      async function convertToInteractive(key) {\n",
              "        const element = document.querySelector('#df-060ba5b9-eb3d-4e04-a75b-ce5cb13b7379');\n",
              "        const dataTable =\n",
              "          await google.colab.kernel.invokeFunction('convertToInteractive',\n",
              "                                                    [key], {});\n",
              "        if (!dataTable) return;\n",
              "\n",
              "        const docLinkHtml = 'Like what you see? Visit the ' +\n",
              "          '<a target=\"_blank\" href=https://colab.research.google.com/notebooks/data_table.ipynb>data table notebook</a>'\n",
              "          + ' to learn more about interactive tables.';\n",
              "        element.innerHTML = '';\n",
              "        dataTable['output_type'] = 'display_data';\n",
              "        await google.colab.output.renderOutput(dataTable, element);\n",
              "        const docLink = document.createElement('div');\n",
              "        docLink.innerHTML = docLinkHtml;\n",
              "        element.appendChild(docLink);\n",
              "      }\n",
              "    </script>\n",
              "  </div>\n",
              "\n",
              "\n",
              "<div id=\"df-c6d457da-17eb-4639-9220-371974c65818\">\n",
              "  <button class=\"colab-df-quickchart\" onclick=\"quickchart('df-c6d457da-17eb-4639-9220-371974c65818')\"\n",
              "            title=\"Suggest charts\"\n",
              "            style=\"display:none;\">\n",
              "\n",
              "<svg xmlns=\"http://www.w3.org/2000/svg\" height=\"24px\"viewBox=\"0 0 24 24\"\n",
              "     width=\"24px\">\n",
              "    <g>\n",
              "        <path d=\"M19 3H5c-1.1 0-2 .9-2 2v14c0 1.1.9 2 2 2h14c1.1 0 2-.9 2-2V5c0-1.1-.9-2-2-2zM9 17H7v-7h2v7zm4 0h-2V7h2v10zm4 0h-2v-4h2v4z\"/>\n",
              "    </g>\n",
              "</svg>\n",
              "  </button>\n",
              "\n",
              "<style>\n",
              "  .colab-df-quickchart {\n",
              "      --bg-color: #E8F0FE;\n",
              "      --fill-color: #1967D2;\n",
              "      --hover-bg-color: #E2EBFA;\n",
              "      --hover-fill-color: #174EA6;\n",
              "      --disabled-fill-color: #AAA;\n",
              "      --disabled-bg-color: #DDD;\n",
              "  }\n",
              "\n",
              "  [theme=dark] .colab-df-quickchart {\n",
              "      --bg-color: #3B4455;\n",
              "      --fill-color: #D2E3FC;\n",
              "      --hover-bg-color: #434B5C;\n",
              "      --hover-fill-color: #FFFFFF;\n",
              "      --disabled-bg-color: #3B4455;\n",
              "      --disabled-fill-color: #666;\n",
              "  }\n",
              "\n",
              "  .colab-df-quickchart {\n",
              "    background-color: var(--bg-color);\n",
              "    border: none;\n",
              "    border-radius: 50%;\n",
              "    cursor: pointer;\n",
              "    display: none;\n",
              "    fill: var(--fill-color);\n",
              "    height: 32px;\n",
              "    padding: 0;\n",
              "    width: 32px;\n",
              "  }\n",
              "\n",
              "  .colab-df-quickchart:hover {\n",
              "    background-color: var(--hover-bg-color);\n",
              "    box-shadow: 0 1px 2px rgba(60, 64, 67, 0.3), 0 1px 3px 1px rgba(60, 64, 67, 0.15);\n",
              "    fill: var(--button-hover-fill-color);\n",
              "  }\n",
              "\n",
              "  .colab-df-quickchart-complete:disabled,\n",
              "  .colab-df-quickchart-complete:disabled:hover {\n",
              "    background-color: var(--disabled-bg-color);\n",
              "    fill: var(--disabled-fill-color);\n",
              "    box-shadow: none;\n",
              "  }\n",
              "\n",
              "  .colab-df-spinner {\n",
              "    border: 2px solid var(--fill-color);\n",
              "    border-color: transparent;\n",
              "    border-bottom-color: var(--fill-color);\n",
              "    animation:\n",
              "      spin 1s steps(1) infinite;\n",
              "  }\n",
              "\n",
              "  @keyframes spin {\n",
              "    0% {\n",
              "      border-color: transparent;\n",
              "      border-bottom-color: var(--fill-color);\n",
              "      border-left-color: var(--fill-color);\n",
              "    }\n",
              "    20% {\n",
              "      border-color: transparent;\n",
              "      border-left-color: var(--fill-color);\n",
              "      border-top-color: var(--fill-color);\n",
              "    }\n",
              "    30% {\n",
              "      border-color: transparent;\n",
              "      border-left-color: var(--fill-color);\n",
              "      border-top-color: var(--fill-color);\n",
              "      border-right-color: var(--fill-color);\n",
              "    }\n",
              "    40% {\n",
              "      border-color: transparent;\n",
              "      border-right-color: var(--fill-color);\n",
              "      border-top-color: var(--fill-color);\n",
              "    }\n",
              "    60% {\n",
              "      border-color: transparent;\n",
              "      border-right-color: var(--fill-color);\n",
              "    }\n",
              "    80% {\n",
              "      border-color: transparent;\n",
              "      border-right-color: var(--fill-color);\n",
              "      border-bottom-color: var(--fill-color);\n",
              "    }\n",
              "    90% {\n",
              "      border-color: transparent;\n",
              "      border-bottom-color: var(--fill-color);\n",
              "    }\n",
              "  }\n",
              "</style>\n",
              "\n",
              "  <script>\n",
              "    async function quickchart(key) {\n",
              "      const quickchartButtonEl =\n",
              "        document.querySelector('#' + key + ' button');\n",
              "      quickchartButtonEl.disabled = true;  // To prevent multiple clicks.\n",
              "      quickchartButtonEl.classList.add('colab-df-spinner');\n",
              "      try {\n",
              "        const charts = await google.colab.kernel.invokeFunction(\n",
              "            'suggestCharts', [key], {});\n",
              "      } catch (error) {\n",
              "        console.error('Error during call to suggestCharts:', error);\n",
              "      }\n",
              "      quickchartButtonEl.classList.remove('colab-df-spinner');\n",
              "      quickchartButtonEl.classList.add('colab-df-quickchart-complete');\n",
              "    }\n",
              "    (() => {\n",
              "      let quickchartButtonEl =\n",
              "        document.querySelector('#df-c6d457da-17eb-4639-9220-371974c65818 button');\n",
              "      quickchartButtonEl.style.display =\n",
              "        google.colab.kernel.accessAllowed ? 'block' : 'none';\n",
              "    })();\n",
              "  </script>\n",
              "</div>\n",
              "\n",
              "  <div id=\"id_c23d697f-f119-44ac-88e1-53910ac5cf00\">\n",
              "    <style>\n",
              "      .colab-df-generate {\n",
              "        background-color: #E8F0FE;\n",
              "        border: none;\n",
              "        border-radius: 50%;\n",
              "        cursor: pointer;\n",
              "        display: none;\n",
              "        fill: #1967D2;\n",
              "        height: 32px;\n",
              "        padding: 0 0 0 0;\n",
              "        width: 32px;\n",
              "      }\n",
              "\n",
              "      .colab-df-generate:hover {\n",
              "        background-color: #E2EBFA;\n",
              "        box-shadow: 0px 1px 2px rgba(60, 64, 67, 0.3), 0px 1px 3px 1px rgba(60, 64, 67, 0.15);\n",
              "        fill: #174EA6;\n",
              "      }\n",
              "\n",
              "      [theme=dark] .colab-df-generate {\n",
              "        background-color: #3B4455;\n",
              "        fill: #D2E3FC;\n",
              "      }\n",
              "\n",
              "      [theme=dark] .colab-df-generate:hover {\n",
              "        background-color: #434B5C;\n",
              "        box-shadow: 0px 1px 3px 1px rgba(0, 0, 0, 0.15);\n",
              "        filter: drop-shadow(0px 1px 2px rgba(0, 0, 0, 0.3));\n",
              "        fill: #FFFFFF;\n",
              "      }\n",
              "    </style>\n",
              "    <button class=\"colab-df-generate\" onclick=\"generateWithVariable('df')\"\n",
              "            title=\"Generate code using this dataframe.\"\n",
              "            style=\"display:none;\">\n",
              "\n",
              "  <svg xmlns=\"http://www.w3.org/2000/svg\" height=\"24px\"viewBox=\"0 0 24 24\"\n",
              "       width=\"24px\">\n",
              "    <path d=\"M7,19H8.4L18.45,9,17,7.55,7,17.6ZM5,21V16.75L18.45,3.32a2,2,0,0,1,2.83,0l1.4,1.43a1.91,1.91,0,0,1,.58,1.4,1.91,1.91,0,0,1-.58,1.4L9.25,21ZM18.45,9,17,7.55Zm-12,3A5.31,5.31,0,0,0,4.9,8.1,5.31,5.31,0,0,0,1,6.5,5.31,5.31,0,0,0,4.9,4.9,5.31,5.31,0,0,0,6.5,1,5.31,5.31,0,0,0,8.1,4.9,5.31,5.31,0,0,0,12,6.5,5.46,5.46,0,0,0,6.5,12Z\"/>\n",
              "  </svg>\n",
              "    </button>\n",
              "    <script>\n",
              "      (() => {\n",
              "      const buttonEl =\n",
              "        document.querySelector('#id_c23d697f-f119-44ac-88e1-53910ac5cf00 button.colab-df-generate');\n",
              "      buttonEl.style.display =\n",
              "        google.colab.kernel.accessAllowed ? 'block' : 'none';\n",
              "\n",
              "      buttonEl.onclick = () => {\n",
              "        google.colab.notebook.generateWithVariable('df');\n",
              "      }\n",
              "      })();\n",
              "    </script>\n",
              "  </div>\n",
              "\n",
              "    </div>\n",
              "  </div>\n"
            ],
            "application/vnd.google.colaboratory.intrinsic+json": {
              "type": "dataframe",
              "variable_name": "df",
              "summary": "{\n  \"name\": \"df\",\n  \"rows\": 1257,\n  \"fields\": [\n    {\n      \"column\": \"Date\",\n      \"properties\": {\n        \"dtype\": \"date\",\n        \"min\": \"2020-03-02 00:00:00\",\n        \"max\": \"2025-02-28 00:00:00\",\n        \"num_unique_values\": 1257,\n        \"samples\": [\n          \"2021-11-18 00:00:00\",\n          \"2020-07-24 00:00:00\",\n          \"2020-05-13 00:00:00\"\n        ],\n        \"semantic_type\": \"\",\n        \"description\": \"\"\n      }\n    },\n    {\n      \"column\": \"Open\",\n      \"properties\": {\n        \"dtype\": \"number\",\n        \"std\": 41.26515324953298,\n        \"min\": 4.984595491641853,\n        \"max\": 153.02999877929688,\n        \"num_unique_values\": 1256,\n        \"samples\": [\n          32.3093037900349,\n          9.844146479492238,\n          7.8891629963640995\n        ],\n        \"semantic_type\": \"\",\n        \"description\": \"\"\n      }\n    },\n    {\n      \"column\": \"High\",\n      \"properties\": {\n        \"dtype\": \"number\",\n        \"std\": 41.9736132232506,\n        \"min\": 5.229714841006499,\n        \"max\": 153.1300048828125,\n        \"num_unique_values\": 1256,\n        \"samples\": [\n          32.701600981553746,\n          10.332366209828724,\n          8.049586547202551\n        ],\n        \"semantic_type\": \"\",\n        \"description\": \"\"\n      }\n    },\n    {\n      \"column\": \"Low\",\n      \"properties\": {\n        \"dtype\": \"number\",\n        \"std\": 40.34651191365095,\n        \"min\": 4.500833296746045,\n        \"max\": 147.82000732421875,\n        \"num_unique_values\": 1256,\n        \"samples\": [\n          31.265166937653447,\n          9.746453097303164,\n          7.567568039216386\n        ],\n        \"semantic_type\": \"\",\n        \"description\": \"\"\n      }\n    },\n    {\n      \"column\": \"Close\",\n      \"properties\": {\n        \"dtype\": \"number\",\n        \"std\": 41.17057699986001,\n        \"min\": 4.892427444458008,\n        \"max\": 149.42999267578125,\n        \"num_unique_values\": 1249,\n        \"samples\": [\n          16.278989791870117,\n          88.72601318359375,\n          44.0246467590332\n        ],\n        \"semantic_type\": \"\",\n        \"description\": \"\"\n      }\n    },\n    {\n      \"column\": \"Volume\",\n      \"properties\": {\n        \"dtype\": \"number\",\n        \"std\": 185444297,\n        \"min\": 97884000,\n        \"max\": 1543911000,\n        \"num_unique_values\": 1257,\n        \"samples\": [\n          781711000,\n          473292000,\n          625852000\n        ],\n        \"semantic_type\": \"\",\n        \"description\": \"\"\n      }\n    }\n  ]\n}"
            }
          },
          "metadata": {},
          "execution_count": 40
        }
      ]
    },
    {
      "cell_type": "code",
      "source": [
        "plt.figure(figsize=(12, 6))\n",
        "for stock in ['Open', 'High', 'Low', 'Close']:\n",
        "    plt.plot(df[stock], label=stock)\n",
        "plt.legend()\n",
        "plt.title(\"Stock Prices Over 5 Years\")\n",
        "plt.xlabel(\"Date\")\n",
        "plt.ylabel(\"Price (USD)\")\n",
        "plt.show()"
      ],
      "metadata": {
        "colab": {
          "base_uri": "https://localhost:8080/",
          "height": 525
        },
        "id": "QI8yVQ4YDdnp",
        "outputId": "fc702994-1371-43a1-ae1c-4c400cd40481"
      },
      "execution_count": null,
      "outputs": [
        {
          "output_type": "display_data",
          "data": {
            "text/plain": [
              "<Figure size 1200x600 with 1 Axes>"
            ],
            "image/png": "[encoded data removed]"
          },
          "metadata": {}
        }
      ]
    },
    {
      "cell_type": "markdown",
      "source": [
        "# Data cleaning"
      ],
      "metadata": {
        "id": "7HOK5c29EjRU"
      }
    },
    {
      "cell_type": "code",
      "source": [
        "df.info()"
      ],
      "metadata": {
        "colab": {
          "base_uri": "https://localhost:8080/"
        },
        "id": "tDTYye5iFM10",
        "outputId": "49554b1e-4a5f-456a-c6ac-b62a2401d7c7"
      },
      "execution_count": null,
      "outputs": [
        {
          "output_type": "stream",
          "name": "stdout",
          "text": [
            "<class 'pandas.core.frame.DataFrame'>\n",
            "DatetimeIndex: 1257 entries, 2020-03-02 to 2025-02-28\n",
            "Data columns (total 5 columns):\n",
            " #   Column  Non-Null Count  Dtype  \n",
            "---  ------  --------------  -----  \n",
            " 0   Open    1257 non-null   float64\n",
            " 1   High    1257 non-null   float64\n",
            " 2   Low     1257 non-null   float64\n",
            " 3   Close   1257 non-null   float64\n",
            " 4   Volume  1257 non-null   int64  \n",
            "dtypes: float64(4), int64(1)\n",
            "memory usage: 58.9 KB\n"
          ]
        }
      ]
    },
    {
      "cell_type": "code",
      "source": [
        "df.describe()"
      ],
      "metadata": {
        "colab": {
          "base_uri": "https://localhost:8080/",
          "height": 300
        },
        "id": "CW6rLhHWFOgB",
        "outputId": "bdd7b3cc-6676-41a8-b2d5-4007bd0461e8"
      },
      "execution_count": null,
      "outputs": [
        {
          "output_type": "execute_result",
          "data": {
            "text/plain": [
              "              Open         High          Low        Close        Volume\n",
              "count  1257.000000  1257.000000  1257.000000  1257.000000  1.257000e+03\n",
              "mean     42.423927    43.205568    41.537656    42.402577  4.413781e+08\n",
              "std      41.265153    41.973613    40.346512    41.170577  1.854443e+08\n",
              "min       4.984596     5.229715     4.500834     4.892426  9.788400e+07\n",
              "25%      14.126034    14.338359    13.855730    14.142094  3.025899e+08\n",
              "50%      22.370725    22.754037    21.963474    22.345095  4.177350e+08\n",
              "75%      48.218089    48.743898    47.581511    48.122128  5.431120e+08\n",
              "max     153.029999   153.130005   147.820007   149.429993  1.543911e+09"
            ],
            "text/html": [
              "\n",
              "  <div id=\"df-754b7ce7-501e-4fdc-8fa5-ca650b5bd2ee\" class=\"colab-df-container\">\n",
              "    <div>\n",
              "<style scoped>\n",
              "    .dataframe tbody tr th:only-of-type {\n",
              "        vertical-align: middle;\n",
              "    }\n",
              "\n",
              "    .dataframe tbody tr th {\n",
              "        vertical-align: top;\n",
              "    }\n",
              "\n",
              "    .dataframe thead th {\n",
              "        text-align: right;\n",
              "    }\n",
              "</style>\n",
              "<table border=\"1\" class=\"dataframe\">\n",
              "  <thead>\n",
              "    <tr style=\"text-align: right;\">\n",
              "      <th></th>\n",
              "      <th>Open</th>\n",
              "      <th>High</th>\n",
              "      <th>Low</th>\n",
              "      <th>Close</th>\n",
              "      <th>Volume</th>\n",
              "    </tr>\n",
              "  </thead>\n",
              "  <tbody>\n",
              "    <tr>\n",
              "      <th>count</th>\n",
              "      <td>1257.000000</td>\n",
              "      <td>1257.000000</td>\n",
              "      <td>1257.000000</td>\n",
              "      <td>1257.000000</td>\n",
              "      <td>1.257000e+03</td>\n",
              "    </tr>\n",
              "    <tr>\n",
              "      <th>mean</th>\n",
              "      <td>42.423927</td>\n",
              "      <td>43.205568</td>\n",
              "      <td>41.537656</td>\n",
              "      <td>42.402577</td>\n",
              "      <td>4.413781e+08</td>\n",
              "    </tr>\n",
              "    <tr>\n",
              "      <th>std</th>\n",
              "      <td>41.265153</td>\n",
              "      <td>41.973613</td>\n",
              "      <td>40.346512</td>\n",
              "      <td>41.170577</td>\n",
              "      <td>1.854443e+08</td>\n",
              "    </tr>\n",
              "    <tr>\n",
              "      <th>min</th>\n",
              "      <td>4.984596</td>\n",
              "      <td>5.229715</td>\n",
              "      <td>4.500834</td>\n",
              "      <td>4.892426</td>\n",
              "      <td>9.788400e+07</td>\n",
              "    </tr>\n",
              "    <tr>\n",
              "      <th>25%</th>\n",
              "      <td>14.126034</td>\n",
              "      <td>14.338359</td>\n",
              "      <td>13.855730</td>\n",
              "      <td>14.142094</td>\n",
              "      <td>3.025899e+08</td>\n",
              "    </tr>\n",
              "    <tr>\n",
              "      <th>50%</th>\n",
              "      <td>22.370725</td>\n",
              "      <td>22.754037</td>\n",
              "      <td>21.963474</td>\n",
              "      <td>22.345095</td>\n",
              "      <td>4.177350e+08</td>\n",
              "    </tr>\n",
              "    <tr>\n",
              "      <th>75%</th>\n",
              "      <td>48.218089</td>\n",
              "      <td>48.743898</td>\n",
              "      <td>47.581511</td>\n",
              "      <td>48.122128</td>\n",
              "      <td>5.431120e+08</td>\n",
              "    </tr>\n",
              "    <tr>\n",
              "      <th>max</th>\n",
              "      <td>153.029999</td>\n",
              "      <td>153.130005</td>\n",
              "      <td>147.820007</td>\n",
              "      <td>149.429993</td>\n",
              "      <td>1.543911e+09</td>\n",
              "    </tr>\n",
              "  </tbody>\n",
              "</table>\n",
              "</div>\n",
              "    <div class=\"colab-df-buttons\">\n",
              "\n",
              "  <div class=\"colab-df-container\">\n",
              "    <button class=\"colab-df-convert\" onclick=\"convertToInteractive('df-754b7ce7-501e-4fdc-8fa5-ca650b5bd2ee')\"\n",
              "            title=\"Convert this dataframe to an interactive table.\"\n",
              "            style=\"display:none;\">\n",
              "\n",
              "  <svg xmlns=\"http://www.w3.org/2000/svg\" height=\"24px\" viewBox=\"0 -960 960 960\">\n",
              "    <path d=\"M120-120v-720h720v720H120Zm60-500h600v-160H180v160Zm220 220h160v-160H400v160Zm0 220h160v-160H400v160ZM180-400h160v-160H180v160Zm440 0h160v-160H620v160ZM180-180h160v-160H180v160Zm440 0h160v-160H620v160Z\"/>\n",
              "  </svg>\n",
              "    </button>\n",
              "\n",
              "  <style>\n",
              "    .colab-df-container {\n",
              "      display:flex;\n",
              "      gap: 12px;\n",
              "    }\n",
              "\n",
              "    .colab-df-convert {\n",
              "      background-color: #E8F0FE;\n",
              "      border: none;\n",
              "      border-radius: 50%;\n",
              "      cursor: pointer;\n",
              "      display: none;\n",
              "      fill: #1967D2;\n",
              "      height: 32px;\n",
              "      padding: 0 0 0 0;\n",
              "      width: 32px;\n",
              "    }\n",
              "\n",
              "    .colab-df-convert:hover {\n",
              "      background-color: #E2EBFA;\n",
              "      box-shadow: 0px 1px 2px rgba(60, 64, 67, 0.3), 0px 1px 3px 1px rgba(60, 64, 67, 0.15);\n",
              "      fill: #174EA6;\n",
              "    }\n",
              "\n",
              "    .colab-df-buttons div {\n",
              "      margin-bottom: 4px;\n",
              "    }\n",
              "\n",
              "    [theme=dark] .colab-df-convert {\n",
              "      background-color: #3B4455;\n",
              "      fill: #D2E3FC;\n",
              "    }\n",
              "\n",
              "    [theme=dark] .colab-df-convert:hover {\n",
              "      background-color: #434B5C;\n",
              "      box-shadow: 0px 1px 3px 1px rgba(0, 0, 0, 0.15);\n",
              "      filter: drop-shadow(0px 1px 2px rgba(0, 0, 0, 0.3));\n",
              "      fill: #FFFFFF;\n",
              "    }\n",
              "  </style>\n",
              "\n",
              "    <script>\n",
              "      const buttonEl =\n",
              "        document.querySelector('#df-754b7ce7-501e-4fdc-8fa5-ca650b5bd2ee button.colab-df-convert');\n",
              "      buttonEl.style.display =\n",
              "        google.colab.kernel.accessAllowed ? 'block' : 'none';\n",
              "\n",
              "      async function convertToInteractive(key) {\n",
              "        const element = document.querySelector('#df-754b7ce7-501e-4fdc-8fa5-ca650b5bd2ee');\n",
              "        const dataTable =\n",
              "          await google.colab.kernel.invokeFunction('convertToInteractive',\n",
              "                                                    [key], {});\n",
              "        if (!dataTable) return;\n",
              "\n",
              "        const docLinkHtml = 'Like what you see? Visit the ' +\n",
              "          '<a target=\"_blank\" href=https://colab.research.google.com/notebooks/data_table.ipynb>data table notebook</a>'\n",
              "          + ' to learn more about interactive tables.';\n",
              "        element.innerHTML = '';\n",
              "        dataTable['output_type'] = 'display_data';\n",
              "        await google.colab.output.renderOutput(dataTable, element);\n",
              "        const docLink = document.createElement('div');\n",
              "        docLink.innerHTML = docLinkHtml;\n",
              "        element.appendChild(docLink);\n",
              "      }\n",
              "    </script>\n",
              "  </div>\n",
              "\n",
              "\n",
              "<div id=\"df-97442f88-2231-4e45-a44c-a1e2e07c0efa\">\n",
              "  <button class=\"colab-df-quickchart\" onclick=\"quickchart('df-97442f88-2231-4e45-a44c-a1e2e07c0efa')\"\n",
              "            title=\"Suggest charts\"\n",
              "            style=\"display:none;\">\n",
              "\n",
              "<svg xmlns=\"http://www.w3.org/2000/svg\" height=\"24px\"viewBox=\"0 0 24 24\"\n",
              "     width=\"24px\">\n",
              "    <g>\n",
              "        <path d=\"M19 3H5c-1.1 0-2 .9-2 2v14c0 1.1.9 2 2 2h14c1.1 0 2-.9 2-2V5c0-1.1-.9-2-2-2zM9 17H7v-7h2v7zm4 0h-2V7h2v10zm4 0h-2v-4h2v4z\"/>\n",
              "    </g>\n",
              "</svg>\n",
              "  </button>\n",
              "\n",
              "<style>\n",
              "  .colab-df-quickchart {\n",
              "      --bg-color: #E8F0FE;\n",
              "      --fill-color: #1967D2;\n",
              "      --hover-bg-color: #E2EBFA;\n",
              "      --hover-fill-color: #174EA6;\n",
              "      --disabled-fill-color: #AAA;\n",
              "      --disabled-bg-color: #DDD;\n",
              "  }\n",
              "\n",
              "  [theme=dark] .colab-df-quickchart {\n",
              "      --bg-color: #3B4455;\n",
              "      --fill-color: #D2E3FC;\n",
              "      --hover-bg-color: #434B5C;\n",
              "      --hover-fill-color: #FFFFFF;\n",
              "      --disabled-bg-color: #3B4455;\n",
              "      --disabled-fill-color: #666;\n",
              "  }\n",
              "\n",
              "  .colab-df-quickchart {\n",
              "    background-color: var(--bg-color);\n",
              "    border: none;\n",
              "    border-radius: 50%;\n",
              "    cursor: pointer;\n",
              "    display: none;\n",
              "    fill: var(--fill-color);\n",
              "    height: 32px;\n",
              "    padding: 0;\n",
              "    width: 32px;\n",
              "  }\n",
              "\n",
              "  .colab-df-quickchart:hover {\n",
              "    background-color: var(--hover-bg-color);\n",
              "    box-shadow: 0 1px 2px rgba(60, 64, 67, 0.3), 0 1px 3px 1px rgba(60, 64, 67, 0.15);\n",
              "    fill: var(--button-hover-fill-color);\n",
              "  }\n",
              "\n",
              "  .colab-df-quickchart-complete:disabled,\n",
              "  .colab-df-quickchart-complete:disabled:hover {\n",
              "    background-color: var(--disabled-bg-color);\n",
              "    fill: var(--disabled-fill-color);\n",
              "    box-shadow: none;\n",
              "  }\n",
              "\n",
              "  .colab-df-spinner {\n",
              "    border: 2px solid var(--fill-color);\n",
              "    border-color: transparent;\n",
              "    border-bottom-color: var(--fill-color);\n",
              "    animation:\n",
              "      spin 1s steps(1) infinite;\n",
              "  }\n",
              "\n",
              "  @keyframes spin {\n",
              "    0% {\n",
              "      border-color: transparent;\n",
              "      border-bottom-color: var(--fill-color);\n",
              "      border-left-color: var(--fill-color);\n",
              "    }\n",
              "    20% {\n",
              "      border-color: transparent;\n",
              "      border-left-color: var(--fill-color);\n",
              "      border-top-color: var(--fill-color);\n",
              "    }\n",
              "    30% {\n",
              "      border-color: transparent;\n",
              "      border-left-color: var(--fill-color);\n",
              "      border-top-color: var(--fill-color);\n",
              "      border-right-color: var(--fill-color);\n",
              "    }\n",
              "    40% {\n",
              "      border-color: transparent;\n",
              "      border-right-color: var(--fill-color);\n",
              "      border-top-color: var(--fill-color);\n",
              "    }\n",
              "    60% {\n",
              "      border-color: transparent;\n",
              "      border-right-color: var(--fill-color);\n",
              "    }\n",
              "    80% {\n",
              "      border-color: transparent;\n",
              "      border-right-color: var(--fill-color);\n",
              "      border-bottom-color: var(--fill-color);\n",
              "    }\n",
              "    90% {\n",
              "      border-color: transparent;\n",
              "      border-bottom-color: var(--fill-color);\n",
              "    }\n",
              "  }\n",
              "</style>\n",
              "\n",
              "  <script>\n",
              "    async function quickchart(key) {\n",
              "      const quickchartButtonEl =\n",
              "        document.querySelector('#' + key + ' button');\n",
              "      quickchartButtonEl.disabled = true;  // To prevent multiple clicks.\n",
              "      quickchartButtonEl.classList.add('colab-df-spinner');\n",
              "      try {\n",
              "        const charts = await google.colab.kernel.invokeFunction(\n",
              "            'suggestCharts', [key], {});\n",
              "      } catch (error) {\n",
              "        console.error('Error during call to suggestCharts:', error);\n",
              "      }\n",
              "      quickchartButtonEl.classList.remove('colab-df-spinner');\n",
              "      quickchartButtonEl.classList.add('colab-df-quickchart-complete');\n",
              "    }\n",
              "    (() => {\n",
              "      let quickchartButtonEl =\n",
              "        document.querySelector('#df-97442f88-2231-4e45-a44c-a1e2e07c0efa button');\n",
              "      quickchartButtonEl.style.display =\n",
              "        google.colab.kernel.accessAllowed ? 'block' : 'none';\n",
              "    })();\n",
              "  </script>\n",
              "</div>\n",
              "\n",
              "    </div>\n",
              "  </div>\n"
            ],
            "application/vnd.google.colaboratory.intrinsic+json": {
              "type": "dataframe",
              "summary": "{\n  \"name\": \"df\",\n  \"rows\": 8,\n  \"fields\": [\n    {\n      \"column\": \"Open\",\n      \"properties\": {\n        \"dtype\": \"number\",\n        \"std\": 430.38484937840315,\n        \"min\": 4.9845959620842075,\n        \"max\": 1257.0,\n        \"num_unique_values\": 8,\n        \"samples\": [\n          42.42392744104001,\n          22.370724934718577,\n          1257.0\n        ],\n        \"semantic_type\": \"\",\n        \"description\": \"\"\n      }\n    },\n    {\n      \"column\": \"High\",\n      \"properties\": {\n        \"dtype\": \"number\",\n        \"std\": 430.2291205928953,\n        \"min\": 5.229715334583032,\n        \"max\": 1257.0,\n        \"num_unique_values\": 8,\n        \"samples\": [\n          43.20556808780035,\n          22.754036747813043,\n          1257.0\n        ],\n        \"semantic_type\": \"\",\n        \"description\": \"\"\n      }\n    },\n    {\n      \"column\": \"Low\",\n      \"properties\": {\n        \"dtype\": \"number\",\n        \"std\": 430.6620662898516,\n        \"min\": 4.500833721531289,\n        \"max\": 1257.0,\n        \"num_unique_values\": 8,\n        \"samples\": [\n          41.53765598628025,\n          21.9634743239716,\n          1257.0\n        ],\n        \"semantic_type\": \"\",\n        \"description\": \"\"\n      }\n    },\n    {\n      \"column\": \"Close\",\n      \"properties\": {\n        \"dtype\": \"number\",\n        \"std\": 430.45753618691856,\n        \"min\": 4.892426013946533,\n        \"max\": 1257.0,\n        \"num_unique_values\": 8,\n        \"samples\": [\n          42.402576597892015,\n          22.345094680786133,\n          1257.0\n        ],\n        \"semantic_type\": \"\",\n        \"description\": \"\"\n      }\n    },\n    {\n      \"column\": \"Volume\",\n      \"properties\": {\n        \"dtype\": \"number\",\n        \"std\": 481671707.29017043,\n        \"min\": 1257.0,\n        \"max\": 1543911000.0,\n        \"num_unique_values\": 8,\n        \"samples\": [\n          441378117.8997613,\n          417735000.0,\n          1257.0\n        ],\n        \"semantic_type\": \"\",\n        \"description\": \"\"\n      }\n    }\n  ]\n}"
            }
          },
          "metadata": {},
          "execution_count": 29
        }
      ]
    },
    {
      "cell_type": "markdown",
      "source": [
        "# 1.Missing Values"
      ],
      "metadata": {
        "id": "f1r0CnisFjRC"
      }
    },
    {
      "cell_type": "code",
      "source": [
        "missing_values = df.isnull().sum()\n",
        "print(\"Missing values:\\n\", missing_values)"
      ],
      "metadata": {
        "colab": {
          "base_uri": "https://localhost:8080/"
        },
        "id": "HSHe8ttGEfbC",
        "outputId": "6c981104-cddd-47b2-af34-f9a9690b840a"
      },
      "execution_count": null,
      "outputs": [
        {
          "output_type": "stream",
          "name": "stdout",
          "text": [
            "Missing values:\n",
            " Open      0\n",
            "High      0\n",
            "Low       0\n",
            "Close     0\n",
            "Volume    0\n",
            "dtype: int64\n"
          ]
        }
      ]
    },
    {
      "cell_type": "markdown",
      "source": [
        "# 2.Check Datetime Index"
      ],
      "metadata": {
        "id": "BreA2kZ9F1ip"
      }
    },
    {
      "cell_type": "code",
      "source": [
        "df = df.sort_index()\n",
        "df.head()"
      ],
      "metadata": {
        "colab": {
          "base_uri": "https://localhost:8080/",
          "height": 238
        },
        "id": "gM6_r06pFzHh",
        "outputId": "0f2247e8-efae-4d84-8c15-38c6a153ab2c"
      },
      "execution_count": null,
      "outputs": [
        {
          "output_type": "execute_result",
          "data": {
            "text/plain": [
              "                Open      High       Low     Close     Volume\n",
              "Date                                                         \n",
              "2020-03-02  6.897725  6.914913  6.501647  6.886016  890744000\n",
              "2020-03-03  6.941814  7.001599  6.538014  6.623457  652792000\n",
              "2020-03-04  6.730823  7.096758  6.656091  7.087292  597408000\n",
              "2020-03-05  6.887760  7.054661  6.763207  6.807797  540328000\n",
              "2020-03-06  6.628192  6.685736  6.426915  6.627196  515412000"
            ],
            "text/html": [
              "\n",
              "  <div id=\"df-ece685ea-8057-4f85-99e2-f2fb763c0d40\" class=\"colab-df-container\">\n",
              "    <div>\n",
              "<style scoped>\n",
              "    .dataframe tbody tr th:only-of-type {\n",
              "        vertical-align: middle;\n",
              "    }\n",
              "\n",
              "    .dataframe tbody tr th {\n",
              "        vertical-align: top;\n",
              "    }\n",
              "\n",
              "    .dataframe thead th {\n",
              "        text-align: right;\n",
              "    }\n",
              "</style>\n",
              "<table border=\"1\" class=\"dataframe\">\n",
              "  <thead>\n",
              "    <tr style=\"text-align: right;\">\n",
              "      <th></th>\n",
              "      <th>Open</th>\n",
              "      <th>High</th>\n",
              "      <th>Low</th>\n",
              "      <th>Close</th>\n",
              "      <th>Volume</th>\n",
              "    </tr>\n",
              "    <tr>\n",
              "      <th>Date</th>\n",
              "      <th></th>\n",
              "      <th></th>\n",
              "      <th></th>\n",
              "      <th></th>\n",
              "      <th></th>\n",
              "    </tr>\n",
              "  </thead>\n",
              "  <tbody>\n",
              "    <tr>\n",
              "      <th>2020-03-02</th>\n",
              "      <td>6.897725</td>\n",
              "      <td>6.914913</td>\n",
              "      <td>6.501647</td>\n",
              "      <td>6.886016</td>\n",
              "      <td>890744000</td>\n",
              "    </tr>\n",
              "    <tr>\n",
              "      <th>2020-03-03</th>\n",
              "      <td>6.941814</td>\n",
              "      <td>7.001599</td>\n",
              "      <td>6.538014</td>\n",
              "      <td>6.623457</td>\n",
              "      <td>652792000</td>\n",
              "    </tr>\n",
              "    <tr>\n",
              "      <th>2020-03-04</th>\n",
              "      <td>6.730823</td>\n",
              "      <td>7.096758</td>\n",
              "      <td>6.656091</td>\n",
              "      <td>7.087292</td>\n",
              "      <td>597408000</td>\n",
              "    </tr>\n",
              "    <tr>\n",
              "      <th>2020-03-05</th>\n",
              "      <td>6.887760</td>\n",
              "      <td>7.054661</td>\n",
              "      <td>6.763207</td>\n",
              "      <td>6.807797</td>\n",
              "      <td>540328000</td>\n",
              "    </tr>\n",
              "    <tr>\n",
              "      <th>2020-03-06</th>\n",
              "      <td>6.628192</td>\n",
              "      <td>6.685736</td>\n",
              "      <td>6.426915</td>\n",
              "      <td>6.627196</td>\n",
              "      <td>515412000</td>\n",
              "    </tr>\n",
              "  </tbody>\n",
              "</table>\n",
              "</div>\n",
              "    <div class=\"colab-df-buttons\">\n",
              "\n",
              "  <div class=\"colab-df-container\">\n",
              "    <button class=\"colab-df-convert\" onclick=\"convertToInteractive('df-ece685ea-8057-4f85-99e2-f2fb763c0d40')\"\n",
              "            title=\"Convert this dataframe to an interactive table.\"\n",
              "            style=\"display:none;\">\n",
              "\n",
              "  <svg xmlns=\"http://www.w3.org/2000/svg\" height=\"24px\" viewBox=\"0 -960 960 960\">\n",
              "    <path d=\"M120-120v-720h720v720H120Zm60-500h600v-160H180v160Zm220 220h160v-160H400v160Zm0 220h160v-160H400v160ZM180-400h160v-160H180v160Zm440 0h160v-160H620v160ZM180-180h160v-160H180v160Zm440 0h160v-160H620v160Z\"/>\n",
              "  </svg>\n",
              "    </button>\n",
              "\n",
              "  <style>\n",
              "    .colab-df-container {\n",
              "      display:flex;\n",
              "      gap: 12px;\n",
              "    }\n",
              "\n",
              "    .colab-df-convert {\n",
              "      background-color: #E8F0FE;\n",
              "      border: none;\n",
              "      border-radius: 50%;\n",
              "      cursor: pointer;\n",
              "      display: none;\n",
              "      fill: #1967D2;\n",
              "      height: 32px;\n",
              "      padding: 0 0 0 0;\n",
              "      width: 32px;\n",
              "    }\n",
              "\n",
              "    .colab-df-convert:hover {\n",
              "      background-color: #E2EBFA;\n",
              "      box-shadow: 0px 1px 2px rgba(60, 64, 67, 0.3), 0px 1px 3px 1px rgba(60, 64, 67, 0.15);\n",
              "      fill: #174EA6;\n",
              "    }\n",
              "\n",
              "    .colab-df-buttons div {\n",
              "      margin-bottom: 4px;\n",
              "    }\n",
              "\n",
              "    [theme=dark] .colab-df-convert {\n",
              "      background-color: #3B4455;\n",
              "      fill: #D2E3FC;\n",
              "    }\n",
              "\n",
              "    [theme=dark] .colab-df-convert:hover {\n",
              "      background-color: #434B5C;\n",
              "      box-shadow: 0px 1px 3px 1px rgba(0, 0, 0, 0.15);\n",
              "      filter: drop-shadow(0px 1px 2px rgba(0, 0, 0, 0.3));\n",
              "      fill: #FFFFFF;\n",
              "    }\n",
              "  </style>\n",
              "\n",
              "    <script>\n",
              "      const buttonEl =\n",
              "        document.querySelector('#df-ece685ea-8057-4f85-99e2-f2fb763c0d40 button.colab-df-convert');\n",
              "      buttonEl.style.display =\n",
              "        google.colab.kernel.accessAllowed ? 'block' : 'none';\n",
              "\n",
              "      async function convertToInteractive(key) {\n",
              "        const element = document.querySelector('#df-ece685ea-8057-4f85-99e2-f2fb763c0d40');\n",
              "        const dataTable =\n",
              "          await google.colab.kernel.invokeFunction('convertToInteractive',\n",
              "                                                    [key], {});\n",
              "        if (!dataTable) return;\n",
              "\n",
              "        const docLinkHtml = 'Like what you see? Visit the ' +\n",
              "          '<a target=\"_blank\" href=https://colab.research.google.com/notebooks/data_table.ipynb>data table notebook</a>'\n",
              "          + ' to learn more about interactive tables.';\n",
              "        element.innerHTML = '';\n",
              "        dataTable['output_type'] = 'display_data';\n",
              "        await google.colab.output.renderOutput(dataTable, element);\n",
              "        const docLink = document.createElement('div');\n",
              "        docLink.innerHTML = docLinkHtml;\n",
              "        element.appendChild(docLink);\n",
              "      }\n",
              "    </script>\n",
              "  </div>\n",
              "\n",
              "\n",
              "<div id=\"df-bb594703-27c8-4a05-ac0f-910b7ec8cbc5\">\n",
              "  <button class=\"colab-df-quickchart\" onclick=\"quickchart('df-bb594703-27c8-4a05-ac0f-910b7ec8cbc5')\"\n",
              "            title=\"Suggest charts\"\n",
              "            style=\"display:none;\">\n",
              "\n",
              "<svg xmlns=\"http://www.w3.org/2000/svg\" height=\"24px\"viewBox=\"0 0 24 24\"\n",
              "     width=\"24px\">\n",
              "    <g>\n",
              "        <path d=\"M19 3H5c-1.1 0-2 .9-2 2v14c0 1.1.9 2 2 2h14c1.1 0 2-.9 2-2V5c0-1.1-.9-2-2-2zM9 17H7v-7h2v7zm4 0h-2V7h2v10zm4 0h-2v-4h2v4z\"/>\n",
              "    </g>\n",
              "</svg>\n",
              "  </button>\n",
              "\n",
              "<style>\n",
              "  .colab-df-quickchart {\n",
              "      --bg-color: #E8F0FE;\n",
              "      --fill-color: #1967D2;\n",
              "      --hover-bg-color: #E2EBFA;\n",
              "      --hover-fill-color: #174EA6;\n",
              "      --disabled-fill-color: #AAA;\n",
              "      --disabled-bg-color: #DDD;\n",
              "  }\n",
              "\n",
              "  [theme=dark] .colab-df-quickchart {\n",
              "      --bg-color: #3B4455;\n",
              "      --fill-color: #D2E3FC;\n",
              "      --hover-bg-color: #434B5C;\n",
              "      --hover-fill-color: #FFFFFF;\n",
              "      --disabled-bg-color: #3B4455;\n",
              "      --disabled-fill-color: #666;\n",
              "  }\n",
              "\n",
              "  .colab-df-quickchart {\n",
              "    background-color: var(--bg-color);\n",
              "    border: none;\n",
              "    border-radius: 50%;\n",
              "    cursor: pointer;\n",
              "    display: none;\n",
              "    fill: var(--fill-color);\n",
              "    height: 32px;\n",
              "    padding: 0;\n",
              "    width: 32px;\n",
              "  }\n",
              "\n",
              "  .colab-df-quickchart:hover {\n",
              "    background-color: var(--hover-bg-color);\n",
              "    box-shadow: 0 1px 2px rgba(60, 64, 67, 0.3), 0 1px 3px 1px rgba(60, 64, 67, 0.15);\n",
              "    fill: var(--button-hover-fill-color);\n",
              "  }\n",
              "\n",
              "  .colab-df-quickchart-complete:disabled,\n",
              "  .colab-df-quickchart-complete:disabled:hover {\n",
              "    background-color: var(--disabled-bg-color);\n",
              "    fill: var(--disabled-fill-color);\n",
              "    box-shadow: none;\n",
              "  }\n",
              "\n",
              "  .colab-df-spinner {\n",
              "    border: 2px solid var(--fill-color);\n",
              "    border-color: transparent;\n",
              "    border-bottom-color: var(--fill-color);\n",
              "    animation:\n",
              "      spin 1s steps(1) infinite;\n",
              "  }\n",
              "\n",
              "  @keyframes spin {\n",
              "    0% {\n",
              "      border-color: transparent;\n",
              "      border-bottom-color: var(--fill-color);\n",
              "      border-left-color: var(--fill-color);\n",
              "    }\n",
              "    20% {\n",
              "      border-color: transparent;\n",
              "      border-left-color: var(--fill-color);\n",
              "      border-top-color: var(--fill-color);\n",
              "    }\n",
              "    30% {\n",
              "      border-color: transparent;\n",
              "      border-left-color: var(--fill-color);\n",
              "      border-top-color: var(--fill-color);\n",
              "      border-right-color: var(--fill-color);\n",
              "    }\n",
              "    40% {\n",
              "      border-color: transparent;\n",
              "      border-right-color: var(--fill-color);\n",
              "      border-top-color: var(--fill-color);\n",
              "    }\n",
              "    60% {\n",
              "      border-color: transparent;\n",
              "      border-right-color: var(--fill-color);\n",
              "    }\n",
              "    80% {\n",
              "      border-color: transparent;\n",
              "      border-right-color: var(--fill-color);\n",
              "      border-bottom-color: var(--fill-color);\n",
              "    }\n",
              "    90% {\n",
              "      border-color: transparent;\n",
              "      border-bottom-color: var(--fill-color);\n",
              "    }\n",
              "  }\n",
              "</style>\n",
              "\n",
              "  <script>\n",
              "    async function quickchart(key) {\n",
              "      const quickchartButtonEl =\n",
              "        document.querySelector('#' + key + ' button');\n",
              "      quickchartButtonEl.disabled = true;  // To prevent multiple clicks.\n",
              "      quickchartButtonEl.classList.add('colab-df-spinner');\n",
              "      try {\n",
              "        const charts = await google.colab.kernel.invokeFunction(\n",
              "            'suggestCharts', [key], {});\n",
              "      } catch (error) {\n",
              "        console.error('Error during call to suggestCharts:', error);\n",
              "      }\n",
              "      quickchartButtonEl.classList.remove('colab-df-spinner');\n",
              "      quickchartButtonEl.classList.add('colab-df-quickchart-complete');\n",
              "    }\n",
              "    (() => {\n",
              "      let quickchartButtonEl =\n",
              "        document.querySelector('#df-bb594703-27c8-4a05-ac0f-910b7ec8cbc5 button');\n",
              "      quickchartButtonEl.style.display =\n",
              "        google.colab.kernel.accessAllowed ? 'block' : 'none';\n",
              "    })();\n",
              "  </script>\n",
              "</div>\n",
              "\n",
              "    </div>\n",
              "  </div>\n"
            ],
            "application/vnd.google.colaboratory.intrinsic+json": {
              "type": "dataframe",
              "variable_name": "df",
              "summary": "{\n  \"name\": \"df\",\n  \"rows\": 1257,\n  \"fields\": [\n    {\n      \"column\": \"Date\",\n      \"properties\": {\n        \"dtype\": \"date\",\n        \"min\": \"2020-03-02 00:00:00\",\n        \"max\": \"2025-02-28 00:00:00\",\n        \"num_unique_values\": 1257,\n        \"samples\": [\n          \"2021-11-18 00:00:00\",\n          \"2020-07-24 00:00:00\",\n          \"2020-05-13 00:00:00\"\n        ],\n        \"semantic_type\": \"\",\n        \"description\": \"\"\n      }\n    },\n    {\n      \"column\": \"Open\",\n      \"properties\": {\n        \"dtype\": \"number\",\n        \"std\": 41.2651532407776,\n        \"min\": 4.9845959620842075,\n        \"max\": 153.02999877929688,\n        \"num_unique_values\": 1256,\n        \"samples\": [\n          32.3093037900349,\n          9.844146479492238,\n          7.889162025835023\n        ],\n        \"semantic_type\": \"\",\n        \"description\": \"\"\n      }\n    },\n    {\n      \"column\": \"High\",\n      \"properties\": {\n        \"dtype\": \"number\",\n        \"std\": 41.97361321538349,\n        \"min\": 5.229715334583032,\n        \"max\": 153.1300048828125,\n        \"num_unique_values\": 1256,\n        \"samples\": [\n          32.701600981553746,\n          10.332366209828724,\n          8.049585556938084\n        ],\n        \"semantic_type\": \"\",\n        \"description\": \"\"\n      }\n    },\n    {\n      \"column\": \"Low\",\n      \"properties\": {\n        \"dtype\": \"number\",\n        \"std\": 40.34651190549612,\n        \"min\": 4.500833721531289,\n        \"max\": 147.82000732421875,\n        \"num_unique_values\": 1256,\n        \"samples\": [\n          31.265166937653447,\n          9.746453097303164,\n          7.567567108250094\n        ],\n        \"semantic_type\": \"\",\n        \"description\": \"\"\n      }\n    },\n    {\n      \"column\": \"Close\",\n      \"properties\": {\n        \"dtype\": \"number\",\n        \"std\": 41.17057699294899,\n        \"min\": 4.892426013946533,\n        \"max\": 149.42999267578125,\n        \"num_unique_values\": 1249,\n        \"samples\": [\n          16.278995513916016,\n          88.72601318359375,\n          44.02465057373047\n        ],\n        \"semantic_type\": \"\",\n        \"description\": \"\"\n      }\n    },\n    {\n      \"column\": \"Volume\",\n      \"properties\": {\n        \"dtype\": \"number\",\n        \"std\": 185444297,\n        \"min\": 97884000,\n        \"max\": 1543911000,\n        \"num_unique_values\": 1257,\n        \"samples\": [\n          781711000,\n          473292000,\n          625852000\n        ],\n        \"semantic_type\": \"\",\n        \"description\": \"\"\n      }\n    }\n  ]\n}"
            }
          },
          "metadata": {},
          "execution_count": 31
        }
      ]
    },
    {
      "cell_type": "markdown",
      "source": [
        "# Seasonality decompostion"
      ],
      "metadata": {
        "id": "Btfd308FGLzh"
      }
    },
    {
      "cell_type": "code",
      "source": [
        "stock = \"Open\"\n",
        "decomposition = sm.tsa.seasonal_decompose(df[stock], model=\"multiplicative\", period=252)  # 252 วัน = 1 ปีในตลาดหุ้น\n",
        "\n",
        "plt.figure(figsize=(12, 8))\n",
        "\n",
        "plt.subplot(4, 1, 1)\n",
        "plt.plot(df[stock], label=\"Original\", color=\"blue\")\n",
        "plt.title(\"Original Data\")\n",
        "plt.legend()\n",
        "\n",
        "plt.subplot(4, 1, 2)\n",
        "plt.plot(decomposition.trend, label=\"Trend\", color=\"red\")\n",
        "plt.title(\"Trend Component\")\n",
        "plt.legend()\n",
        "\n",
        "plt.subplot(4, 1, 3)\n",
        "plt.plot(decomposition.seasonal, label=\"Seasonality\", color=\"green\")\n",
        "plt.title(\"Seasonal Component\")\n",
        "plt.legend()\n",
        "\n",
        "plt.subplot(4, 1, 4)\n",
        "plt.plot(decomposition.resid, label=\"Residual\", color=\"black\")\n",
        "plt.title(\"Residual (Noise)\")\n",
        "plt.legend()\n",
        "\n",
        "plt.tight_layout()\n",
        "plt.show()"
      ],
      "metadata": {
        "colab": {
          "base_uri": "https://localhost:8080/",
          "height": 636
        },
        "id": "7gmUENn7GOCS",
        "outputId": "156085cd-514a-441a-ddb3-090812b30c2c"
      },
      "execution_count": null,
      "outputs": [
        {
          "output_type": "display_data",
          "data": {
            "text/plain": [
              "<Figure size 1200x800 with 4 Axes>"
            ],
            "image/png": "[encoded data removed]"
          },
          "metadata": {}
        }
      ]
    },
    {
      "cell_type": "markdown",
      "source": [
        "# ADF Statistic Test"
      ],
      "metadata": {
        "id": "ep51sSS0KKAe"
      }
    },
    {
      "cell_type": "code",
      "source": [
        "def check_stationarity(series):\n",
        "    print(series.reset_index().columns[1])\n",
        "    result = adfuller(series.dropna())\n",
        "    print(\"ADF Statistic:\", result[0])\n",
        "    print(\"p-value:\", result[1])\n",
        "    if result[1] < 0.05:\n",
        "        print(\"data not is Stationary (p < 0.05)\")\n",
        "        print(\" \")\n",
        "    else:\n",
        "        print(\"data is Stationary (p >= 0.05)\")\n",
        "        print(\" \")\n",
        "\n",
        "check_stationarity(df[\"Open\"])"
      ],
      "metadata": {
        "colab": {
          "base_uri": "https://localhost:8080/"
        },
        "id": "xKMPflRiHPOI",
        "outputId": "9e3729db-4e17-4c10-cf50-9d0ed4d92e55"
      },
      "execution_count": null,
      "outputs": [
        {
          "output_type": "stream",
          "name": "stdout",
          "text": [
            "Open\n",
            "ADF Statistic: -0.03941907988477052\n",
            "p-value: 0.955148193233813\n",
            "data is Stationary (p >= 0.05)\n",
            " \n"
          ]
        }
      ]
    },
    {
      "cell_type": "markdown",
      "source": [
        "# Data prepartation for train model"
      ],
      "metadata": {
        "id": "ICUdaJMfKTHt"
      }
    },
    {
      "cell_type": "code",
      "source": [
        "# --- CONFIG ---\n",
        "LOOKBACK = 30\n",
        "HORIZON = 7\n",
        "\n",
        "features = df.columns.tolist()\n",
        "target_col = 'Open'  # 'target'\n",
        "features.remove(target_col)"
      ],
      "metadata": {
        "id": "bt-Cae1ZGkAL"
      },
      "execution_count": null,
      "outputs": []
    },
    {
      "cell_type": "markdown",
      "source": [
        "# StandardScaler"
      ],
      "metadata": {
        "id": "F8XFIxDIRDqC"
      }
    },
    {
      "cell_type": "code",
      "source": [
        "# Standardization\n",
        "scaler_X = StandardScaler()\n",
        "scaler_Y = StandardScaler()\n",
        "\n",
        "df[features] = scaler_X.fit_transform(df[features])\n",
        "df[target_col] = scaler_Y.fit_transform(df[[target_col]])"
      ],
      "metadata": {
        "id": "7CFNHb3o2JpN"
      },
      "execution_count": null,
      "outputs": []
    },
    {
      "cell_type": "code",
      "source": [
        "df.hist()"
      ],
      "metadata": {
        "colab": {
          "base_uri": "https://localhost:8080/",
          "height": 539
        },
        "id": "WbqmcffDGzVL",
        "outputId": "5a97c920-45af-4475-c654-d3b2a5047b45"
      },
      "execution_count": null,
      "outputs": [
        {
          "output_type": "execute_result",
          "data": {
            "text/plain": [
              "array([[<Axes: title={'center': 'Open'}>,\n",
              "        <Axes: title={'center': 'High'}>],\n",
              "       [<Axes: title={'center': 'Low'}>,\n",
              "        <Axes: title={'center': 'Close'}>],\n",
              "       [<Axes: title={'center': 'Volume'}>, <Axes: >]], dtype=object)"
            ]
          },
          "metadata": {},
          "execution_count": 44
        },
        {
          "output_type": "display_data",
          "data": {
            "text/plain": [
              "<Figure size 640x480 with 6 Axes>"
            ],
            "image/png": "[encoded data removed]"
          },
          "metadata": {}
        }
      ]
    },
    {
      "cell_type": "markdown",
      "source": [
        "# Data Splitting"
      ],
      "metadata": {
        "id": "iR_1tMHqHnEy"
      }
    },
    {
      "cell_type": "code",
      "source": [
        "#(encoder_input, decoder_input, decoder_output) lookback 30 , predict 7\n",
        "def create_sequences(df, lookback, horizon):\n",
        "    X_enc, X_dec, Y_dec = [], [], []\n",
        "\n",
        "    for i in range(len(df) - lookback - horizon):\n",
        "        encoder_input = df.iloc[i:i+lookback][features].values                        # i=1:0-29  , i=2:1-30\n",
        "        decoder_input = df.iloc[i+lookback-1:i+lookback+horizon-1][target_col].values # i=1:29-36 , i=2:30-37\n",
        "        decoder_output = df.iloc[i+lookback:i+lookback+horizon][target_col].values    # i=1:30-37 , i=2:31-38\n",
        "\n",
        "        X_enc.append(encoder_input)\n",
        "        X_dec.append(decoder_input)\n",
        "        Y_dec.append(decoder_output)\n",
        "\n",
        "    return np.array(X_enc), np.array(X_dec), np.array(Y_dec)\n",
        "\n",
        "X_enc, X_dec, Y_dec = create_sequences(df, LOOKBACK, HORIZON)\n",
        "print(X_enc.shape , X_dec.shape , Y_dec.shape)\n",
        "\n",
        "#Encoder เรียนรู้จากอดีต → ส่ง context ไปให้ Decoder\n",
        "#Decoder input คือค่าจริงในอดีตเล็กน้อยที่ \"ช่วยเริ่มต้น\" ให้ Decoder\n",
        "#Decoder output คือค่าที่ต้องการให้ Decoder ทำนาย (target จริง)"
      ],
      "metadata": {
        "colab": {
          "base_uri": "https://localhost:8080/"
        },
        "id": "f5-_Ke8uG5Rq",
        "outputId": "25182d0f-d594-45f8-a6f9-f5627f099331"
      },
      "execution_count": null,
      "outputs": [
        {
          "output_type": "stream",
          "name": "stdout",
          "text": [
            "(1220, 30, 4) (1220, 7) (1220, 7)\n"
          ]
        }
      ]
    },
    {
      "cell_type": "code",
      "source": [
        "# 70 15 15\n",
        "X_enc_train, X_enc_temp, X_dec_train, X_dec_temp, Y_dec_train, Y_dec_temp = train_test_split(\n",
        "    X_enc, X_dec, Y_dec, test_size=0.2, random_state=42, shuffle=False\n",
        ")\n",
        "\n",
        "X_enc_val, X_enc_test, X_dec_val, X_dec_test, Y_dec_val, Y_dec_test = train_test_split(\n",
        "    X_enc_temp, X_dec_temp, Y_dec_temp, test_size=0.5, random_state=42, shuffle=False\n",
        ")"
      ],
      "metadata": {
        "id": "pA4RN20EHh8a"
      },
      "execution_count": null,
      "outputs": []
    },
    {
      "cell_type": "markdown",
      "source": [
        "# Torch_tensor"
      ],
      "metadata": {
        "id": "zxdWnsNQI4-R"
      }
    },
    {
      "cell_type": "code",
      "source": [
        "# Tensor\n",
        "X_enc_train = torch.tensor(X_enc_train, dtype=torch.float32)\n",
        "X_dec_train = torch.tensor(X_dec_train, dtype=torch.float32).unsqueeze(-1)\n",
        "Y_dec_train = torch.tensor(Y_dec_train, dtype=torch.float32).unsqueeze(-1)\n",
        "\n",
        "X_enc_val = torch.tensor(X_enc_val, dtype=torch.float32)\n",
        "X_dec_val = torch.tensor(X_dec_val, dtype=torch.float32).unsqueeze(-1)\n",
        "Y_dec_val = torch.tensor(Y_dec_val, dtype=torch.float32).unsqueeze(-1)\n",
        "\n",
        "X_enc_test = torch.tensor(X_enc_test, dtype=torch.float32)\n",
        "X_dec_test = torch.tensor(X_dec_test, dtype=torch.float32).unsqueeze(-1)\n",
        "Y_dec_test = torch.tensor(Y_dec_test, dtype=torch.float32).unsqueeze(-1)\n",
        "\n",
        "print(\"Train shape:\", X_enc_train.shape, X_dec_train.shape, Y_dec_train.shape)\n",
        "print(\"Val shape:\", X_enc_val.shape, X_dec_val.shape, Y_dec_val.shape)\n",
        "print(\"Test shape:\", X_enc_test.shape, X_dec_test.shape, Y_dec_test.shape)"
      ],
      "metadata": {
        "colab": {
          "base_uri": "https://localhost:8080/"
        },
        "id": "N1GiR0JSH9Eb",
        "outputId": "31b30a58-df07-4312-d5ef-c8a5d9fed14e"
      },
      "execution_count": null,
      "outputs": [
        {
          "output_type": "stream",
          "name": "stdout",
          "text": [
            "Train shape: torch.Size([976, 30, 4]) torch.Size([976, 7, 1]) torch.Size([976, 7, 1])\n",
            "Val shape: torch.Size([122, 30, 4]) torch.Size([122, 7, 1]) torch.Size([122, 7, 1])\n",
            "Test shape: torch.Size([122, 30, 4]) torch.Size([122, 7, 1]) torch.Size([122, 7, 1])\n"
          ]
        }
      ]
    },
    {
      "cell_type": "markdown",
      "source": [
        "# Config model"
      ],
      "metadata": {
        "id": "7itxBf2qJlER"
      }
    },
    {
      "cell_type": "code",
      "source": [
        "# --- CONFIG ---\n",
        "CONFIG = {\n",
        "    \"num_features\": X_enc_train.shape[2],\n",
        "    \"d_model\": 32,  # ลดขนาด embedding เพื่อลดพารามิเตอร์\n",
        "    \"num_heads\": 4,  # ลด Attention Head เพื่อลด Complexity\n",
        "    \"num_encoder_layers\": 3,  # ลดจำนวน layers\n",
        "    \"num_decoder_layers\": 3,\n",
        "    \"dim_feedforward\": 512,  # ลดขนาด hidden layer ใน FFN\n",
        "    \"dropout\": 0.5,  # เพิ่ม Dropout\n",
        "    \"learning_rate\": 0.0005,  # ลด Learning Rate\n",
        "    \"weight_decay\": 1e-2,  # เพิ่ม Weight Decay (Regularization)\n",
        "    \"batch_size\": 256,  # ลด Batch Size\n",
        "    \"num_epochs\": 15,  # เพิ่ม Epoch เพราะเรียนรู้ช้าลง\n",
        "    \"device\": torch.device(\"cuda\" if torch.cuda.is_available() else \"cpu\")\n",
        "}\n",
        "\n",
        "print(\"Updated Config:\", CONFIG)\n",
        "\n"
      ],
      "metadata": {
        "colab": {
          "base_uri": "https://localhost:8080/"
        },
        "id": "93uN3_-URzE1",
        "outputId": "8905d7ee-4324-43c4-a14c-72b9051e5e8b"
      },
      "execution_count": null,
      "outputs": [
        {
          "output_type": "stream",
          "name": "stdout",
          "text": [
            "Updated Config: {'num_features': 4, 'd_model': 32, 'num_heads': 4, 'num_encoder_layers': 3, 'num_decoder_layers': 3, 'dim_feedforward': 512, 'dropout': 0.5, 'learning_rate': 0.0005, 'weight_decay': 0.01, 'batch_size': 256, 'num_epochs': 15, 'device': device(type='cpu')}\n"
          ]
        }
      ]
    },
    {
      "cell_type": "markdown",
      "source": [
        "# Architechture transformer"
      ],
      "metadata": {
        "id": "N4VXFBm-U81V"
      }
    },
    {
      "cell_type": "code",
      "source": [
        "class StockTransformer(nn.Module):\n",
        "    def __init__(self, config):\n",
        "        super(StockTransformer, self).__init__()\n",
        "        self.d_model = config[\"d_model\"]\n",
        "\n",
        "        self.encoder_embedding = nn.Linear(config[\"num_features\"], config[\"d_model\"])\n",
        "        self.decoder_embedding = nn.Linear(1, config[\"d_model\"])\n",
        "\n",
        "        # Transformer\n",
        "        self.transformer = nn.Transformer(\n",
        "            d_model=config[\"d_model\"],\n",
        "            nhead=config[\"num_heads\"],\n",
        "            num_encoder_layers=config[\"num_encoder_layers\"],\n",
        "            num_decoder_layers=config[\"num_decoder_layers\"],\n",
        "            dim_feedforward=config[\"dim_feedforward\"],\n",
        "            dropout=config[\"dropout\"],\n",
        "            batch_first=True  # PyTorch 1.10+\n",
        "        )\n",
        "\n",
        "        # Linear Layer\n",
        "        self.fc_out = nn.Linear(config[\"d_model\"], 1)\n",
        "\n",
        "    def forward(self, encoder_input, decoder_input):\n",
        "        \"\"\"\n",
        "        encoder_input: (batch, LOOKBACK, num_features)\n",
        "        decoder_input: (batch, HORIZON, 1)\n",
        "        \"\"\"\n",
        "\n",
        "        # Embed input -> (batch, seq_len, d_model)\n",
        "        enc_embed = self.encoder_embedding(encoder_input)\n",
        "        dec_embed = self.decoder_embedding(decoder_input)\n",
        "\n",
        "        # Transformer Forward Pass\n",
        "        transformer_out = self.transformer(enc_embed, dec_embed)\n",
        "\n",
        "        # Fully Connected Layer\n",
        "        output = self.fc_out(transformer_out)  # (batch, HORIZON, 1)\n",
        "        return output\n",
        "\n",
        "# สร้างโมเดล\n",
        "model = StockTransformer(CONFIG).to(CONFIG[\"device\"])\n",
        "summary(model, input_size=[(32, 30, CONFIG[\"num_features\"]), (32, 7, 1)], col_names=[\"input_size\", \"output_size\", \"num_params\"])"
      ],
      "metadata": {
        "colab": {
          "base_uri": "https://localhost:8080/"
        },
        "id": "2DsyYZZ1JiU6",
        "outputId": "f28a5dc1-0e9f-4fa1-94ba-4381719b9aff"
      },
      "execution_count": null,
      "outputs": [
        {
          "output_type": "execute_result",
          "data": {
            "text/plain": [
              "=============================================================================================================================\n",
              "Layer (type:depth-idx)                             Input Shape               Output Shape              Param #\n",
              "=============================================================================================================================\n",
              "StockTransformer                                   [32, 30, 4]               [32, 7, 1]                --\n",
              "├─Linear: 1-1                                      [32, 30, 4]               [32, 30, 32]              160\n",
              "├─Linear: 1-2                                      [32, 7, 1]                [32, 7, 32]               64\n",
              "├─Transformer: 1-3                                 [32, 30, 32]              [32, 7, 32]               --\n",
              "│    └─TransformerEncoder: 2-1                     [32, 30, 32]              [32, 30, 32]              --\n",
              "│    │    └─ModuleList: 3-1                        --                        --                        112,992\n",
              "│    │    └─LayerNorm: 3-2                         [32, 30, 32]              [32, 30, 32]              64\n",
              "│    └─TransformerDecoder: 2-2                     [32, 7, 32]               [32, 7, 32]               --\n",
              "│    │    └─ModuleList: 3-3                        --                        --                        125,856\n",
              "│    │    └─LayerNorm: 3-4                         [32, 7, 32]               [32, 7, 32]               64\n",
              "├─Linear: 1-4                                      [32, 7, 32]               [32, 7, 1]                33\n",
              "=============================================================================================================================\n",
              "Total params: 239,233\n",
              "Trainable params: 239,233\n",
              "Non-trainable params: 0\n",
              "Total mult-adds (Units.MEGABYTES): 6.44\n",
              "=============================================================================================================================\n",
              "Input size (MB): 0.02\n",
              "Forward/backward pass size (MB): 18.06\n",
              "Params size (MB): 0.80\n",
              "Estimated Total Size (MB): 18.88\n",
              "============================================================================================================================="
            ]
          },
          "metadata": {},
          "execution_count": 278
        }
      ]
    },
    {
      "cell_type": "markdown",
      "source": [
        "# DataLoader"
      ],
      "metadata": {
        "id": "FKmC8u8JKkyQ"
      }
    },
    {
      "cell_type": "code",
      "source": [
        "train_dataset = TensorDataset(X_enc_train, X_dec_train, Y_dec_train)\n",
        "val_dataset = TensorDataset(X_enc_val, X_dec_val, Y_dec_val)\n",
        "\n",
        "train_loader = DataLoader(train_dataset, batch_size=CONFIG[\"batch_size\"], shuffle=True)\n",
        "val_loader = DataLoader(val_dataset, batch_size=CONFIG[\"batch_size\"], shuffle=False)\n",
        "\n",
        "print(f\"Train batches: {len(train_loader)}, Val batches: {len(val_loader)}\")"
      ],
      "metadata": {
        "colab": {
          "base_uri": "https://localhost:8080/"
        },
        "id": "s4yxG2SNKjUQ",
        "outputId": "07d3ceb1-fcae-451c-8933-ac2102f8eb94"
      },
      "execution_count": null,
      "outputs": [
        {
          "output_type": "stream",
          "name": "stdout",
          "text": [
            "Train batches: 4, Val batches: 1\n"
          ]
        }
      ]
    },
    {
      "cell_type": "markdown",
      "source": [
        "# Training"
      ],
      "metadata": {
        "id": "RyEQm1uPLATx"
      }
    },
    {
      "cell_type": "code",
      "source": [
        "\n",
        "# Loss Function (Mean Squared Error)\n",
        "criterion = nn.MSELoss()\n",
        "\n",
        "# Optimizer (Adam)\n",
        "optimizer = optim.Adam(model.parameters(), lr=CONFIG[\"learning_rate\"], weight_decay=CONFIG[\"weight_decay\"])  # ปรับ weight_decay\n"
      ],
      "metadata": {
        "id": "ot6mrHH2KwLo"
      },
      "execution_count": null,
      "outputs": []
    },
    {
      "cell_type": "code",
      "source": [
        "train_losses = []\n",
        "val_losses = []\n",
        "\n",
        "for epoch in range(CONFIG[\"num_epochs\"]):\n",
        "    model.train()\n",
        "    train_loss = 0.0\n",
        "\n",
        "    for X_enc, X_dec, Y_dec in train_loader:\n",
        "        X_enc, X_dec, Y_dec = X_enc.to(CONFIG[\"device\"]), X_dec.to(CONFIG[\"device\"]), Y_dec.to(CONFIG[\"device\"])\n",
        "        optimizer.zero_grad()\n",
        "        output = model(X_enc, X_dec)\n",
        "        loss = criterion(output, Y_dec)\n",
        "        loss.backward()\n",
        "        optimizer.step()\n",
        "        train_loss += loss.item()\n",
        "\n",
        "    train_loss /= len(train_loader)\n",
        "    train_losses.append(train_loss)\n",
        "\n",
        "    model.eval()\n",
        "    val_loss = 0.0\n",
        "\n",
        "    with torch.no_grad():\n",
        "        for X_enc, X_dec, Y_dec in val_loader:\n",
        "            X_enc, X_dec, Y_dec = X_enc.to(CONFIG[\"device\"]), X_dec.to(CONFIG[\"device\"]), Y_dec.to(CONFIG[\"device\"])\n",
        "            output = model(X_enc, X_dec)\n",
        "            loss = criterion(output, Y_dec)\n",
        "            val_loss += loss.item()\n",
        "\n",
        "    val_loss /= len(val_loader)\n",
        "    val_losses.append(val_loss)\n",
        "\n",
        "    print(f\"Epoch {epoch+1}: Train Loss={train_loss:.4f}, Val Loss={val_loss:.4f}\")"
      ],
      "metadata": {
        "colab": {
          "base_uri": "https://localhost:8080/"
        },
        "id": "PSQDl4a-K-xK",
        "outputId": "8bc01d06-5d0a-425c-871f-570efc12951c"
      },
      "execution_count": null,
      "outputs": [
        {
          "output_type": "stream",
          "name": "stdout",
          "text": [
            "Epoch 1: Train Loss=0.4630, Val Loss=0.8958\n",
            "Epoch 2: Train Loss=0.2196, Val Loss=0.4050\n",
            "Epoch 3: Train Loss=0.1652, Val Loss=0.4560\n",
            "Epoch 4: Train Loss=0.1189, Val Loss=0.4166\n",
            "Epoch 5: Train Loss=0.0964, Val Loss=0.3011\n",
            "Epoch 6: Train Loss=0.0870, Val Loss=0.2569\n",
            "Epoch 7: Train Loss=0.0771, Val Loss=0.2689\n",
            "Epoch 8: Train Loss=0.0695, Val Loss=0.2789\n",
            "Epoch 9: Train Loss=0.0682, Val Loss=0.2693\n",
            "Epoch 10: Train Loss=0.0615, Val Loss=0.2658\n",
            "Epoch 11: Train Loss=0.0560, Val Loss=0.2803\n",
            "Epoch 12: Train Loss=0.0524, Val Loss=0.2655\n",
            "Epoch 13: Train Loss=0.0522, Val Loss=0.2376\n",
            "Epoch 14: Train Loss=0.0499, Val Loss=0.2257\n",
            "Epoch 15: Train Loss=0.0474, Val Loss=0.2237\n"
          ]
        }
      ]
    },
    {
      "cell_type": "code",
      "source": [
        "plt.plot(train_losses, label=\"Train Loss\")\n",
        "plt.plot(val_losses, label=\"Val Loss\")\n",
        "plt.xlabel(\"Epochs\")\n",
        "plt.ylabel(\"Loss\")\n",
        "plt.legend()\n",
        "plt.title(\"Training & Validation Loss\")\n",
        "plt.show()"
      ],
      "metadata": {
        "colab": {
          "base_uri": "https://localhost:8080/",
          "height": 472
        },
        "id": "1fDmHkajLKxg",
        "outputId": "beb0bdf8-2175-44c9-adb2-f0f972b842e4"
      },
      "execution_count": null,
      "outputs": [
        {
          "output_type": "display_data",
          "data": {
            "text/plain": [
              "<Figure size 640x480 with 1 Axes>"
            ],
            "image/png": "[encoded data removed]"
          },
          "metadata": {}
        }
      ]
    },
    {
      "cell_type": "markdown",
      "source": [
        "# LSTM"
      ],
      "metadata": {
        "id": "X30uEzGdZdVR"
      }
    },
    {
      "cell_type": "code",
      "source": [
        "df = df[['Open']]\n",
        "\n",
        "scaler = StandardScaler()\n",
        "df_scaled = scaler.fit_transform(df)\n",
        "\n",
        "def create_sequences(data, input_size=30, output_size=7):\n",
        "    X, y = [], []\n",
        "    for i in range(len(data) - input_size - output_size):\n",
        "        X.append(data[i:i+input_size])\n",
        "        y.append(data[i+input_size:i+input_size+output_size])\n",
        "    return np.array(X), np.array(y)\n",
        "\n",
        "X, y = create_sequences(df_scaled, input_size=30, output_size=7)\n",
        "\n",
        "X_train, X_temp, y_train, y_temp = train_test_split(X, y, test_size=0.3, shuffle=False)\n",
        "X_val, X_test, y_val, y_test = train_test_split(X_temp, y_temp, test_size=0.5, shuffle=False)\n",
        "\n",
        "X_train, y_train = torch.tensor(X_train, dtype=torch.float32), torch.tensor(y_train, dtype=torch.float32)\n",
        "X_val, y_val = torch.tensor(X_val, dtype=torch.float32), torch.tensor(y_val, dtype=torch.float32)\n",
        "X_test, y_test = torch.tensor(X_test, dtype=torch.float32), torch.tensor(y_test, dtype=torch.float32)\n",
        "\n",
        "print(f\"X_train: {X_train.shape}, y_train: {y_train.shape}\")\n",
        "print(f\"X_val: {X_val.shape}, y_val: {y_val.shape}\")\n",
        "print(f\"X_test: {X_test.shape}, y_test: {y_test.shape}\")\n"
      ],
      "metadata": {
        "colab": {
          "base_uri": "https://localhost:8080/"
        },
        "id": "NWrqTcgDZfSo",
        "outputId": "ff08d683-e740-4812-a311-d552b3dd5fb1"
      },
      "execution_count": null,
      "outputs": [
        {
          "output_type": "stream",
          "name": "stdout",
          "text": [
            "X_train: torch.Size([854, 30, 1]), y_train: torch.Size([854, 7, 1])\n",
            "X_val: torch.Size([183, 30, 1]), y_val: torch.Size([183, 7, 1])\n",
            "X_test: torch.Size([183, 30, 1]), y_test: torch.Size([183, 7, 1])\n"
          ]
        }
      ]
    },
    {
      "cell_type": "code",
      "source": [
        "class StockLSTM(nn.Module):\n",
        "    def __init__(self, input_dim, hidden_dim, num_layers, output_dim):\n",
        "        super(StockLSTM, self).__init__()\n",
        "        self.hidden_dim = hidden_dim\n",
        "        self.num_layers = num_layers\n",
        "\n",
        "        # 🔹 LSTM Layer\n",
        "        self.lstm = nn.LSTM(input_dim, hidden_dim, num_layers, batch_first=True, dropout=0.3)\n",
        "\n",
        "        # 🔹 Fully Connected Layer\n",
        "        self.fc = nn.Linear(hidden_dim, output_dim)\n",
        "\n",
        "    def forward(self, x):\n",
        "        h0 = torch.zeros(self.num_layers, x.size(0), self.hidden_dim).to(x.device)\n",
        "        c0 = torch.zeros(self.num_layers, x.size(0), self.hidden_dim).to(x.device)\n",
        "\n",
        "        out, _ = self.lstm(x, (h0, c0))  # Output ทั้ง sequence\n",
        "\n",
        "        # 🔥 แก้ตรงนี้ให้ output 7 วัน\n",
        "        out = self.fc(out[:, -7:, :])  # ใช้ 7 วันสุดท้ายของ sequence\n",
        "\n",
        "        return out\n"
      ],
      "metadata": {
        "id": "g4pN9u6pZfNJ"
      },
      "execution_count": null,
      "outputs": []
    },
    {
      "cell_type": "code",
      "source": [
        "# 🔹 ทดลอง forward pass\n",
        "model = StockLSTM(input_dim=1, hidden_dim=128, num_layers=2, output_dim=7)"
      ],
      "metadata": {
        "id": "Pn2InNAGaRD6"
      },
      "execution_count": null,
      "outputs": []
    },
    {
      "cell_type": "code",
      "source": [
        "import torch.optim as optim\n",
        "\n",
        "# 🔹 Loss Optimizer\n",
        "criterion = nn.MSELoss()\n",
        "optimizer = optim.Adam(model.parameters(), lr=0.0001)\n",
        "\n",
        "# 🔹 Training Loop\n",
        "num_epochs = 10\n",
        "device = torch.device(\"cuda\" if torch.cuda.is_available() else \"cpu\")\n",
        "\n",
        "F, y_train = X_train.to(device), y_train.to(device)\n",
        "X_val, y_val = X_val.to(device), y_val.to(device)\n",
        "\n",
        "for epoch in range(num_epochs):\n",
        "    model.train()\n",
        "    optimizer.zero_grad()\n",
        "\n",
        "    output = model(X_train)\n",
        "    loss = criterion(output, y_train)\n",
        "    loss.backward()\n",
        "    optimizer.step()\n",
        "\n",
        "    # 🔹 Validate\n",
        "    model.eval()\n",
        "    with torch.no_grad():\n",
        "        val_output = model(X_val)\n",
        "        val_loss = criterion(val_output, y_val)\n",
        "\n",
        "    print(f\"Epoch {epoch+1}/{num_epochs}, Train Loss: {loss.item():.4f}, Val Loss: {val_loss.item():.4f}\")\n"
      ],
      "metadata": {
        "colab": {
          "base_uri": "https://localhost:8080/"
        },
        "id": "GpbDqFroZfKw",
        "outputId": "4ccded85-807b-4971-8d8b-2aab7107c752"
      },
      "execution_count": null,
      "outputs": [
        {
          "output_type": "stream",
          "name": "stderr",
          "text": [
            "/usr/local/lib/python3.11/dist-packages/torch/nn/modules/loss.py:608: UserWarning: Using a target size (torch.Size([854, 7, 1])) that is different to the input size (torch.Size([854, 7, 7])). This will likely lead to incorrect results due to broadcasting. Please ensure they have the same size.\n",
            "  return F.mse_loss(input, target, reduction=self.reduction)\n",
            "/usr/local/lib/python3.11/dist-packages/torch/nn/modules/loss.py:608: UserWarning: Using a target size (torch.Size([183, 7, 1])) that is different to the input size (torch.Size([183, 7, 7])). This will likely lead to incorrect results due to broadcasting. Please ensure they have the same size.\n",
            "  return F.mse_loss(input, target, reduction=self.reduction)\n"
          ]
        },
        {
          "output_type": "stream",
          "name": "stdout",
          "text": [
            "Epoch 1/10, Train Loss: 0.3138, Val Loss: 0.5906\n",
            "Epoch 2/10, Train Loss: 0.3120, Val Loss: 0.5924\n",
            "Epoch 3/10, Train Loss: 0.3102, Val Loss: 0.5943\n",
            "Epoch 4/10, Train Loss: 0.3084, Val Loss: 0.5961\n",
            "Epoch 5/10, Train Loss: 0.3066, Val Loss: 0.5979\n",
            "Epoch 6/10, Train Loss: 0.3049, Val Loss: 0.5997\n",
            "Epoch 7/10, Train Loss: 0.3032, Val Loss: 0.6015\n",
            "Epoch 8/10, Train Loss: 0.3014, Val Loss: 0.6034\n",
            "Epoch 9/10, Train Loss: 0.2996, Val Loss: 0.6052\n",
            "Epoch 10/10, Train Loss: 0.2979, Val Loss: 0.6071\n"
          ]
        }
      ]
    }
  ]
}