{
  "nbformat": 4,
  "nbformat_minor": 0,
  "metadata": {
    "colab": {
      "provenance": [],
      "authorship_tag": "ABX9TyNybXy2QcMYYlgsn+GhUhnm",
      "include_colab_link": true
    },
    "kernelspec": {
      "name": "python3",
      "display_name": "Python 3"
    },
    "language_info": {
      "name": "python"
    }
  },
  "cells": [
    {
      "cell_type": "markdown",
      "metadata": {
        "id": "view-in-github",
        "colab_type": "text"
      },
      "source": [
        "<a href=\"https://colab.research.google.com/github/Eieiz007/Deep-learning/blob/main/multihead_attention.ipynb\" target=\"_parent\"><img src=\"https://colab.research.google.com/assets/colab-badge.svg\" alt=\"Open In Colab\"/></a>"
      ]
    },
    {
      "cell_type": "code",
      "execution_count": 1,
      "metadata": {
        "id": "So_0-1Jwhu6j"
      },
      "outputs": [],
      "source": [
        "import numpy as np\n",
        "import torch\n",
        "import torch.nn as nn\n",
        "import torch.nn.functional as F"
      ]
    },
    {
      "cell_type": "code",
      "source": [
        "sequence_length = 4 # 4 token\n",
        "batch_size = 1 # batch 1\n",
        "input_dim = 512 # embedding\n",
        "d_model = 512 #dim output\n",
        "x = torch.randn( (batch_size, sequence_length, input_dim) )"
      ],
      "metadata": {
        "id": "bSy7p29YhxiA"
      },
      "execution_count": 23,
      "outputs": []
    },
    {
      "cell_type": "code",
      "source": [
        "print(x.size())\n",
        "x"
      ],
      "metadata": {
        "colab": {
          "base_uri": "https://localhost:8080/"
        },
        "id": "-Nd2k-MgiIvw",
        "outputId": "5b9814a7-b600-4346-e4a8-fca3e0fea3a8"
      },
      "execution_count": 24,
      "outputs": [
        {
          "output_type": "stream",
          "name": "stdout",
          "text": [
            "torch.Size([1, 4, 512])\n"
          ]
        },
        {
          "output_type": "execute_result",
          "data": {
            "text/plain": [
              "tensor([[[-0.1363, -0.1448, -0.7345,  ..., -1.0832,  0.2666,  1.1353],\n",
              "         [-1.9599,  0.3104, -0.5402,  ..., -0.3175,  0.4157,  0.5326],\n",
              "         [ 0.9200,  1.5564, -0.0078,  ..., -0.0751,  0.5364,  0.6340],\n",
              "         [ 0.2829,  2.3576,  0.7772,  ..., -1.0690, -1.8149,  1.0452]]])"
            ]
          },
          "metadata": {},
          "execution_count": 24
        }
      ]
    },
    {
      "cell_type": "code",
      "source": [
        "qkv_layer = nn.Linear(input_dim , 3 * d_model) #projection\n",
        "qkv_layer"
      ],
      "metadata": {
        "colab": {
          "base_uri": "https://localhost:8080/"
        },
        "id": "ZAT_-VRriSdt",
        "outputId": "5b920912-1eb1-409a-ef06-84dfe5305ea2"
      },
      "execution_count": 25,
      "outputs": [
        {
          "output_type": "execute_result",
          "data": {
            "text/plain": [
              "Linear(in_features=512, out_features=1536, bias=True)"
            ]
          },
          "metadata": {},
          "execution_count": 25
        }
      ]
    },
    {
      "cell_type": "code",
      "source": [
        "qkv = qkv_layer(x)\n",
        "qkv.size()"
      ],
      "metadata": {
        "colab": {
          "base_uri": "https://localhost:8080/"
        },
        "id": "rR4TWyn6ioUQ",
        "outputId": "464368e2-654e-4b00-cca6-3841d9e004eb"
      },
      "execution_count": 26,
      "outputs": [
        {
          "output_type": "execute_result",
          "data": {
            "text/plain": [
              "torch.Size([1, 4, 1536])"
            ]
          },
          "metadata": {},
          "execution_count": 26
        }
      ]
    },
    {
      "cell_type": "code",
      "source": [
        "import matplotlib.pyplot as plt\n",
        "y_val = torch.histc(qkv, bins=200, min=-3, max=3)\n",
        "x_val = np.arange(-1, 1, 0.01) * 3\n",
        "plt.bar(x_val, y_val, align='center', color=['forestgreen'])\n",
        "plt.title('qkv distribution')\n",
        ""
      ],
      "metadata": {
        "colab": {
          "base_uri": "https://localhost:8080/",
          "height": 470
        },
        "id": "81drRl3DkDdh",
        "outputId": "1fa1c9ac-3ebf-4379-9248-f2f7f1181e8d"
      },
      "execution_count": 27,
      "outputs": [
        {
          "output_type": "execute_result",
          "data": {
            "text/plain": [
              "Text(0.5, 1.0, 'qkv distribution')"
            ]
          },
          "metadata": {},
          "execution_count": 27
        },
        {
          "output_type": "display_data",
          "data": {
            "text/plain": [
              "<Figure size 640x480 with 1 Axes>"
            ],
            "image/png": "[encoded data removed]"
          },
          "metadata": {}
        }
      ]
    },
    {
      "cell_type": "markdown",
      "source": [
        "# New"
      ],
      "metadata": {
        "id": "iVlwId5S0iDs"
      }
    },
    {
      "cell_type": "code",
      "source": [
        "batch_size = 1\n",
        "sequence_length = 4\n",
        "input_dim = 512  # ขนาดของอินพุต\n",
        "d_model = 512    # ขนาดของ Q, K, V\n",
        "num_heads = 8    # จำนวนหัว\n"
      ],
      "metadata": {
        "id": "_7xQOmoLs_ry"
      },
      "execution_count": 42,
      "outputs": []
    },
    {
      "cell_type": "code",
      "source": [
        "x = torch.randn(batch_size, sequence_length, input_dim)\n",
        "x"
      ],
      "metadata": {
        "colab": {
          "base_uri": "https://localhost:8080/"
        },
        "id": "KGwwV6OGs_pJ",
        "outputId": "7f1c443f-28c0-41b2-dd45-1eddab8cf700"
      },
      "execution_count": 43,
      "outputs": [
        {
          "output_type": "execute_result",
          "data": {
            "text/plain": [
              "tensor([[[-0.6960,  2.2020,  1.7734,  ..., -1.3430, -1.2760, -1.2187],\n",
              "         [-0.7034, -0.4712, -1.2370,  ...,  0.8138, -1.2921,  0.7877],\n",
              "         [ 0.9905,  1.4021, -0.1326,  ...,  0.5913,  1.2743, -1.2694],\n",
              "         [ 0.2573, -0.1161, -0.0325,  ...,  1.5817, -0.7497,  1.4181]]])"
            ]
          },
          "metadata": {},
          "execution_count": 43
        }
      ]
    },
    {
      "cell_type": "code",
      "source": [
        "\n",
        "# Linear Layer เปลี่ยน 512 → 1536 (รวม Q, K, V)\n",
        "linear_layer = nn.Linear(input_dim, 3 * d_model)\n",
        "qkv = linear_layer(x)  # (batch_size, sequence_length, 1536)"
      ],
      "metadata": {
        "id": "WBwF3jzw0oGK"
      },
      "execution_count": 44,
      "outputs": []
    },
    {
      "cell_type": "code",
      "source": [
        "qkv.size()"
      ],
      "metadata": {
        "colab": {
          "base_uri": "https://localhost:8080/"
        },
        "id": "ICT4dMFQ4K6S",
        "outputId": "82c0db82-536c-41a1-d021-e6442e2293ae"
      },
      "execution_count": 45,
      "outputs": [
        {
          "output_type": "execute_result",
          "data": {
            "text/plain": [
              "torch.Size([1, 4, 1536])"
            ]
          },
          "metadata": {},
          "execution_count": 45
        }
      ]
    },
    {
      "cell_type": "code",
      "source": [
        "# แยก Q, K, V ออกจากกัน\n",
        "q, k, v = torch.chunk(qkv, 3, dim=-1)  # แต่ละตัวขนาด (batch_size, sequence_length, 512)"
      ],
      "metadata": {
        "id": "obzFn_GqxKj6"
      },
      "execution_count": 46,
      "outputs": []
    },
    {
      "cell_type": "code",
      "source": [
        "q.size() , k.size() , v.size()"
      ],
      "metadata": {
        "colab": {
          "base_uri": "https://localhost:8080/"
        },
        "id": "2q7c0Maa4M4c",
        "outputId": "905f6a3e-3c1f-4926-cda2-e2a6f324555a"
      },
      "execution_count": 48,
      "outputs": [
        {
          "output_type": "execute_result",
          "data": {
            "text/plain": [
              "(torch.Size([1, 4, 512]), torch.Size([1, 4, 512]), torch.Size([1, 4, 512]))"
            ]
          },
          "metadata": {},
          "execution_count": 48
        }
      ]
    },
    {
      "cell_type": "code",
      "source": [
        "head_dim = d_model // num_heads  # ขนาดของแต่ละหัว (64)"
      ],
      "metadata": {
        "id": "-QBnC-dn4WjD"
      },
      "execution_count": 49,
      "outputs": []
    },
    {
      "cell_type": "code",
      "source": [
        "# Reshape เป็น Multi-Head Attention (batch_size, sequence_length, num_heads, head_dim)\n",
        "q = q.view(batch_size, sequence_length, num_heads, head_dim)\n",
        "k = k.view(batch_size, sequence_length, num_heads, head_dim)\n",
        "v = v.view(batch_size, sequence_length, num_heads, head_dim)"
      ],
      "metadata": {
        "id": "oKU-Guz_0vDy"
      },
      "execution_count": 50,
      "outputs": []
    },
    {
      "cell_type": "code",
      "source": [
        "# เปลี่ยนตำแหน่ง Dimension เป็น (batch_size, num_heads, sequence_length, head_dim)\n",
        "q = q.transpose(1, 2)\n",
        "k = k.transpose(1, 2)\n",
        "v = v.transpose(1, 2)\n",
        "\n",
        "# ตรวจสอบขนาด\n",
        "print(\"Q shape:\", q.shape)  # (batch_size, num_heads, sequence_length, head_dim)\n",
        "print(\"K shape:\", k.shape)  # (batch_size, num_heads, sequence_length, head_dim)\n",
        "print(\"V shape:\", v.shape)  # (batch_size, num_heads, sequence_length, head_dim)"
      ],
      "metadata": {
        "colab": {
          "base_uri": "https://localhost:8080/"
        },
        "id": "G0ygW2Wy075Z",
        "outputId": "6a59968e-3979-42e7-b46c-95915059ce91"
      },
      "execution_count": 52,
      "outputs": [
        {
          "output_type": "stream",
          "name": "stdout",
          "text": [
            "Q shape: torch.Size([1, 8, 4, 64])\n",
            "K shape: torch.Size([1, 8, 4, 64])\n",
            "V shape: torch.Size([1, 8, 4, 64])\n"
          ]
        }
      ]
    }
  ]
}