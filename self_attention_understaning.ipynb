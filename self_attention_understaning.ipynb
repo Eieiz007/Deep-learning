{
  "nbformat": 4,
  "nbformat_minor": 0,
  "metadata": {
    "colab": {
      "provenance": [],
      "authorship_tag": "ABX9TyOjKnGuSkFb7X4jUhCsDerq",
      "include_colab_link": true
    },
    "kernelspec": {
      "name": "python3",
      "display_name": "Python 3"
    },
    "language_info": {
      "name": "python"
    }
  },
  "cells": [
    {
      "cell_type": "markdown",
      "metadata": {
        "id": "view-in-github",
        "colab_type": "text"
      },
      "source": [
        "<a href=\"https://colab.research.google.com/github/Eieiz007/Deep-learning/blob/main/self_attention_understaning.ipynb\" target=\"_parent\"><img src=\"https://colab.research.google.com/assets/colab-badge.svg\" alt=\"Open In Colab\"/></a>"
      ]
    },
    {
      "cell_type": "markdown",
      "source": [
        "# initialize QKV"
      ],
      "metadata": {
        "id": "_xHf3LYXPjvs"
      }
    },
    {
      "cell_type": "code",
      "execution_count": null,
      "metadata": {
        "id": "xZubNclzPdey"
      },
      "outputs": [],
      "source": [
        "import numpy as np\n",
        "import math\n",
        "\n",
        "L, d_k, d_v = 4, 8, 8\n",
        "# L (Sequence Length): The number of tokens (or words) in the input sequence.\n",
        "# d_k (Key Dimension): The dimensionality of the key and query vectors.\n",
        "# d_v (Value Dimension): The dimensionality of the value vectors.\n",
        "\n",
        "# it d_k and d_v can differnce because it does not affect the attension score computation.\n",
        "\n",
        "\"\"\"\n",
        "I love dog : 3 token\n",
        "it so L = 3 only, for d_k with d_q these same because it attension score computation.\n",
        "it d_k and d_v can differnce because it does not affect the attension score computation.\n",
        "\"\"\"\n",
        "\n",
        "\n",
        "q = np.random.randn(L, d_k)\n",
        "k = np.random.randn(L, d_k)\n",
        "v = np.random.randn(L, d_v)"
      ]
    },
    {
      "cell_type": "code",
      "source": [
        "print(\"Q\\n\", q)\n",
        "print(\"K\\n\", k)\n",
        "print(\"V\\n\", v)"
      ],
      "metadata": {
        "colab": {
          "base_uri": "https://localhost:8080/"
        },
        "id": "RPZ9XbkXPgim",
        "outputId": "f60f46c2-cdfe-4031-feea-9d153964b6dc"
      },
      "execution_count": null,
      "outputs": [
        {
          "output_type": "stream",
          "name": "stdout",
          "text": [
            "Q\n",
            " [[ 0.01964513  1.14440117 -1.35409725  0.30852238 -0.49216155 -2.3824594\n",
            "  -0.11321984 -0.39769552]\n",
            " [-0.8683973  -0.14418533 -0.0147653  -0.88012258 -1.14047491 -1.08480196\n",
            "   1.74876587  0.07683079]\n",
            " [ 1.45990008 -0.7968527  -0.84882545 -0.32859664 -0.52701918  1.19220532\n",
            "  -0.47117199 -1.76293273]\n",
            " [ 0.87253293 -1.40607176 -0.10940633 -1.03922954  0.59896123  0.8542106\n",
            "   0.22496972 -0.25212726]]\n",
            "K\n",
            " [[ 0.719924   -1.79119062 -0.32003713 -0.54018283  0.89682094 -2.24583619\n",
            "   1.09298441  3.15137023]\n",
            " [ 0.49164841  0.79820765  0.24277443 -0.56696304 -1.30029399  0.96280042\n",
            "  -1.54077856 -0.98446792]\n",
            " [ 0.28993586 -0.30907444 -0.49493186  0.21263236  0.54016662  0.13766622\n",
            "  -0.92465979 -1.57805449]\n",
            " [-0.4194902   0.95358651  2.02392589  0.99855604 -0.3789212   0.40473514\n",
            "   0.02809778 -0.04620699]]\n",
            "V\n",
            " [[-1.46968738  0.02953295  0.52834748  1.94615722  1.79490291  0.39456974\n",
            "  -1.01539261 -1.49911202]\n",
            " [ 0.503845    1.26160054  0.37189478  0.0975845   0.62893905 -0.74649239\n",
            "   1.1079355  -0.02737801]\n",
            " [ 0.03532744 -2.33114789  0.65594604 -0.95410838  0.74938893 -0.14739087\n",
            "  -0.75173918  0.91280306]\n",
            " [ 0.25833773 -1.10793665 -0.52388965 -1.04273603 -1.82308232  1.05968648\n",
            "   0.37162448 -0.24324904]]\n"
          ]
        }
      ]
    },
    {
      "cell_type": "markdown",
      "source": [
        "# Self Attention computation"
      ],
      "metadata": {
        "id": "8E-ZT-YRTHpt"
      }
    },
    {
      "cell_type": "markdown",
      "source": [
        "![image.png](data:image/png;base64,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)"
      ],
      "metadata": {
        "id": "3WcMd5O7TNzM"
      }
    },
    {
      "cell_type": "code",
      "source": [
        "np.matmul(q,k.T) # dot product in form matrix.\n",
        "# it mean find word collocation"
      ],
      "metadata": {
        "colab": {
          "base_uri": "https://localhost:8080/"
        },
        "id": "rPfrjr04TNfM",
        "outputId": "d38def54-d2ed-44bb-d963-a02f627b7ab5"
      },
      "execution_count": null,
      "outputs": [
        {
          "output_type": "execute_result",
          "data": {
            "text/plain": [
              "array([[ 1.76320472, -0.66844575,  0.52621997, -2.11205053],\n",
              "       [ 3.68021772, -2.37821716, -2.89069395, -0.64326565],\n",
              "       [-6.29328693,  4.35659073,  4.11693061, -2.66791667],\n",
              "       [ 1.81317394, -0.18552282,  1.15171919, -2.82924819]])"
            ]
          },
          "metadata": {},
          "execution_count": 6
        }
      ]
    },
    {
      "cell_type": "code",
      "source": [
        "# Why we need sqrt(d_k) in denominator\n",
        "q.var(), k.var(), np.matmul(q, k.T).var()"
      ],
      "metadata": {
        "colab": {
          "base_uri": "https://localhost:8080/"
        },
        "id": "nqBXdvbrPggc",
        "outputId": "f1be3867-e2e1-41c2-d3ff-7ec48d53bedf"
      },
      "execution_count": null,
      "outputs": [
        {
          "output_type": "execute_result",
          "data": {
            "text/plain": [
              "(np.float64(0.8787213771480141),\n",
              " np.float64(1.216301428944107),\n",
              " np.float64(8.181505773342964))"
            ]
          },
          "metadata": {},
          "execution_count": 7
        }
      ]
    },
    {
      "cell_type": "code",
      "source": [
        "scaled = np.matmul(q, k.T) / math.sqrt(d_k)\n",
        "q.var(), k.var(), scaled.var()"
      ],
      "metadata": {
        "colab": {
          "base_uri": "https://localhost:8080/"
        },
        "id": "E-HIQ-jdUSSc",
        "outputId": "ac1bd9d3-776e-44ae-c952-14b69326ddad"
      },
      "execution_count": null,
      "outputs": [
        {
          "output_type": "execute_result",
          "data": {
            "text/plain": [
              "(np.float64(0.8787213771480141),\n",
              " np.float64(1.216301428944107),\n",
              " np.float64(1.0226882216678705))"
            ]
          },
          "metadata": {},
          "execution_count": 8
        }
      ]
    },
    {
      "cell_type": "code",
      "source": [
        "scaled"
      ],
      "metadata": {
        "colab": {
          "base_uri": "https://localhost:8080/"
        },
        "id": "NShcdUo1USQM",
        "outputId": "755479f0-a291-4d18-a0e5-db644c53b7d5"
      },
      "execution_count": null,
      "outputs": [
        {
          "output_type": "execute_result",
          "data": {
            "text/plain": [
              "array([[ 0.62338701, -0.23633126,  0.18604686, -0.74672262],\n",
              "       [ 1.30115345, -0.84082674, -1.02201465, -0.22742875],\n",
              "       [-2.22501293,  1.54028742,  1.45555478, -0.94325099],\n",
              "       [ 0.64105379, -0.06559222,  0.40719423, -1.00029029]])"
            ]
          },
          "metadata": {},
          "execution_count": 9
        }
      ]
    },
    {
      "cell_type": "markdown",
      "source": [
        "# Masking"
      ],
      "metadata": {
        "id": "_XnMRlEyUv6d"
      }
    },
    {
      "cell_type": "markdown",
      "source": [
        "This is to ensure words don't get context from words generated in the future."
      ],
      "metadata": {
        "id": "UECMB6IcUzcu"
      }
    },
    {
      "cell_type": "code",
      "source": [
        "mask = np.tril(np.ones( (L, L) ))\n",
        "mask"
      ],
      "metadata": {
        "colab": {
          "base_uri": "https://localhost:8080/"
        },
        "id": "6NR1M-a8USN2",
        "outputId": "f5ac728d-7d93-46f7-d48b-e360c9f5e50c"
      },
      "execution_count": null,
      "outputs": [
        {
          "output_type": "execute_result",
          "data": {
            "text/plain": [
              "array([[1., 0., 0., 0.],\n",
              "       [1., 1., 0., 0.],\n",
              "       [1., 1., 1., 0.],\n",
              "       [1., 1., 1., 1.]])"
            ]
          },
          "metadata": {},
          "execution_count": 20
        }
      ]
    },
    {
      "cell_type": "code",
      "source": [
        "mask[mask == 0] = -np.inf\n",
        "mask[mask == 1] = 0\n"
      ],
      "metadata": {
        "id": "5UBVS2hMPged"
      },
      "execution_count": null,
      "outputs": []
    },
    {
      "cell_type": "code",
      "source": [
        "mask"
      ],
      "metadata": {
        "colab": {
          "base_uri": "https://localhost:8080/"
        },
        "id": "n2syBKHGVKA1",
        "outputId": "0b42c0c7-b6ba-4e1c-9224-851fc230c11b"
      },
      "execution_count": null,
      "outputs": [
        {
          "output_type": "execute_result",
          "data": {
            "text/plain": [
              "array([[  0., -inf, -inf, -inf],\n",
              "       [  0.,   0., -inf, -inf],\n",
              "       [  0.,   0.,   0., -inf],\n",
              "       [  0.,   0.,   0.,   0.]])"
            ]
          },
          "metadata": {},
          "execution_count": 22
        }
      ]
    },
    {
      "cell_type": "code",
      "source": [
        "scaled + mask"
      ],
      "metadata": {
        "colab": {
          "base_uri": "https://localhost:8080/"
        },
        "id": "MbeovMIzPgb1",
        "outputId": "d122f95e-5e83-49ba-bd44-d644f9aacbb9"
      },
      "execution_count": null,
      "outputs": [
        {
          "output_type": "execute_result",
          "data": {
            "text/plain": [
              "array([[ 0.62338701,        -inf,        -inf,        -inf],\n",
              "       [ 1.30115345, -0.84082674,        -inf,        -inf],\n",
              "       [-2.22501293,  1.54028742,  1.45555478,        -inf],\n",
              "       [ 0.64105379, -0.06559222,  0.40719423, -1.00029029]])"
            ]
          },
          "metadata": {},
          "execution_count": 23
        }
      ]
    },
    {
      "cell_type": "code",
      "source": [
        "def softmax(x):\n",
        "  return (np.exp(x).T / np.sum(np.exp(x), axis=-1)).T"
      ],
      "metadata": {
        "id": "w6qS2EteVgeu"
      },
      "execution_count": null,
      "outputs": []
    },
    {
      "cell_type": "code",
      "source": [
        "attention = softmax(scaled + mask)"
      ],
      "metadata": {
        "id": "NBZvIvzaVh48"
      },
      "execution_count": null,
      "outputs": []
    },
    {
      "cell_type": "code",
      "source": [
        "attention\n"
      ],
      "metadata": {
        "colab": {
          "base_uri": "https://localhost:8080/"
        },
        "id": "Hl3YsPKBVjbl",
        "outputId": "b695d823-f636-4028-bbd7-f28c8a82608d"
      },
      "execution_count": null,
      "outputs": [
        {
          "output_type": "execute_result",
          "data": {
            "text/plain": [
              "array([[1.        , 0.        , 0.        , 0.        ],\n",
              "       [0.89491697, 0.10508303, 0.        , 0.        ],\n",
              "       [0.01192669, 0.51495466, 0.47311865, 0.        ],\n",
              "       [0.40347173, 0.19903096, 0.31933696, 0.07816034]])"
            ]
          },
          "metadata": {},
          "execution_count": 26
        }
      ]
    },
    {
      "cell_type": "code",
      "source": [
        "new_v = np.matmul(attention, v)\n",
        "new_v\n"
      ],
      "metadata": {
        "colab": {
          "base_uri": "https://localhost:8080/"
        },
        "id": "9wWXVfMRVsuO",
        "outputId": "932e60da-36e9-4b10-ba9d-883ccdf07303"
      },
      "execution_count": null,
      "outputs": [
        {
          "output_type": "execute_result",
          "data": {
            "text/plain": [
              "array([[-1.46968738,  0.02953295,  0.52834748,  1.94615722,  1.79490291,\n",
              "         0.39456974, -1.01539261, -1.49911202],\n",
              "       [-1.26230262,  0.15900234,  0.51190696,  1.75190361,  1.6723799 ,\n",
              "         0.27466348, -0.79226687, -1.34445776],\n",
              "       [ 0.2586429 , -0.45289025,  0.50815069, -0.37794367,  0.69983222,\n",
              "        -0.44943719,  0.20276445,  0.39988628],\n",
              "       [-0.46122343, -0.56800511,  0.45571228,  0.41845909,  0.94618579,\n",
              "         0.04638074, -0.40018055, -0.33781907]])"
            ]
          },
          "metadata": {},
          "execution_count": 27
        }
      ]
    },
    {
      "cell_type": "code",
      "source": [
        "v"
      ],
      "metadata": {
        "colab": {
          "base_uri": "https://localhost:8080/"
        },
        "id": "ytXMWTe0Vwrd",
        "outputId": "cc93f904-48e0-4ad1-8d9f-993ffb19c056"
      },
      "execution_count": null,
      "outputs": [
        {
          "output_type": "execute_result",
          "data": {
            "text/plain": [
              "array([[-1.46968738,  0.02953295,  0.52834748,  1.94615722,  1.79490291,\n",
              "         0.39456974, -1.01539261, -1.49911202],\n",
              "       [ 0.503845  ,  1.26160054,  0.37189478,  0.0975845 ,  0.62893905,\n",
              "        -0.74649239,  1.1079355 , -0.02737801],\n",
              "       [ 0.03532744, -2.33114789,  0.65594604, -0.95410838,  0.74938893,\n",
              "        -0.14739087, -0.75173918,  0.91280306],\n",
              "       [ 0.25833773, -1.10793665, -0.52388965, -1.04273603, -1.82308232,\n",
              "         1.05968648,  0.37162448, -0.24324904]])"
            ]
          },
          "metadata": {},
          "execution_count": 28
        }
      ]
    },
    {
      "cell_type": "code",
      "source": [
        "def softmax(x):\n",
        "  return (np.exp(x).T / np.sum(np.exp(x), axis=-1)).T\n",
        "\n",
        "def scaled_dot_product_attention(q, k, v, mask=None):\n",
        "  d_k = q.shape[-1]\n",
        "  scaled = np.matmul(q, k.T) / math.sqrt(d_k)\n",
        "  if mask is not None:\n",
        "    scaled = scaled + mask\n",
        "  attention = softmax(scaled)\n",
        "  out = np.matmul(attention, v)\n",
        "  return out, attention"
      ],
      "metadata": {
        "id": "84kKuZejV2Bm"
      },
      "execution_count": null,
      "outputs": []
    },
    {
      "cell_type": "code",
      "source": [
        "attention_value, attention_score = scaled_dot_product_attention(q, k, v, mask=mask)\n",
        "print(\"Q\\n\", q)\n",
        "print(\"K\\n\", k)\n",
        "print(\"V\\n\", v)\n",
        "print(\"attention_score\\n\", attention_score)\n",
        "print(\"attention_value\\n\", attention_value)"
      ],
      "metadata": {
        "colab": {
          "base_uri": "https://localhost:8080/"
        },
        "id": "_pdfMxZGWHMW",
        "outputId": "26e774b1-9da2-4eca-d105-a373539a3777"
      },
      "execution_count": null,
      "outputs": [
        {
          "output_type": "stream",
          "name": "stdout",
          "text": [
            "Q\n",
            " [[ 0.01964513  1.14440117 -1.35409725  0.30852238 -0.49216155 -2.3824594\n",
            "  -0.11321984 -0.39769552]\n",
            " [-0.8683973  -0.14418533 -0.0147653  -0.88012258 -1.14047491 -1.08480196\n",
            "   1.74876587  0.07683079]\n",
            " [ 1.45990008 -0.7968527  -0.84882545 -0.32859664 -0.52701918  1.19220532\n",
            "  -0.47117199 -1.76293273]\n",
            " [ 0.87253293 -1.40607176 -0.10940633 -1.03922954  0.59896123  0.8542106\n",
            "   0.22496972 -0.25212726]]\n",
            "K\n",
            " [[ 0.719924   -1.79119062 -0.32003713 -0.54018283  0.89682094 -2.24583619\n",
            "   1.09298441  3.15137023]\n",
            " [ 0.49164841  0.79820765  0.24277443 -0.56696304 -1.30029399  0.96280042\n",
            "  -1.54077856 -0.98446792]\n",
            " [ 0.28993586 -0.30907444 -0.49493186  0.21263236  0.54016662  0.13766622\n",
            "  -0.92465979 -1.57805449]\n",
            " [-0.4194902   0.95358651  2.02392589  0.99855604 -0.3789212   0.40473514\n",
            "   0.02809778 -0.04620699]]\n",
            "V\n",
            " [[-1.46968738  0.02953295  0.52834748  1.94615722  1.79490291  0.39456974\n",
            "  -1.01539261 -1.49911202]\n",
            " [ 0.503845    1.26160054  0.37189478  0.0975845   0.62893905 -0.74649239\n",
            "   1.1079355  -0.02737801]\n",
            " [ 0.03532744 -2.33114789  0.65594604 -0.95410838  0.74938893 -0.14739087\n",
            "  -0.75173918  0.91280306]\n",
            " [ 0.25833773 -1.10793665 -0.52388965 -1.04273603 -1.82308232  1.05968648\n",
            "   0.37162448 -0.24324904]]\n",
            "attention_score\n",
            " [[1.         0.         0.         0.        ]\n",
            " [0.89491697 0.10508303 0.         0.        ]\n",
            " [0.01192669 0.51495466 0.47311865 0.        ]\n",
            " [0.40347173 0.19903096 0.31933696 0.07816034]]\n",
            "attention_value\n",
            " [[-1.46968738  0.02953295  0.52834748  1.94615722  1.79490291  0.39456974\n",
            "  -1.01539261 -1.49911202]\n",
            " [-1.26230262  0.15900234  0.51190696  1.75190361  1.6723799   0.27466348\n",
            "  -0.79226687 -1.34445776]\n",
            " [ 0.2586429  -0.45289025  0.50815069 -0.37794367  0.69983222 -0.44943719\n",
            "   0.20276445  0.39988628]\n",
            " [-0.46122343 -0.56800511  0.45571228  0.41845909  0.94618579  0.04638074\n",
            "  -0.40018055 -0.33781907]]\n"
          ]
        }
      ]
    }
  ]
}